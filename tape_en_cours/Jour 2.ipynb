{
 "cells": [
  {
   "cell_type": "markdown",
   "id": "e082a663",
   "metadata": {},
   "source": [
    "# Récapitulatif\n",
    "\n",
    "* écosystème\n",
    "    * installation de python + venv + vscode \n",
    "        * créer un `venv` : `python3 -m venv mon_venv` (il existe un autre module `virtualenv`)\n",
    "        * on l'active : `source mon_venv/bin/activate` ou (sous windows) `mon_venv/Scripts/activate`\n",
    "    * dépendances tierces\n",
    "        * lister les dépendances installées pour les partager aux collègues : `pip freeze > requirements.txt`\n",
    "        * pour les installer à partir du requirements : `pip install -r requirements.txt`\n",
    "* syntaxe \n",
    "    * types de variables : (https://docs.python.org/fr/3.8/library/stdtypes.html)\n",
    "        * nombres (int, float)\n",
    "        * listes (mutable, on peut changer un des éléments qui la consititue)\n",
    "        * chaines de charactères (immutable, ne peut pas être modifiée)\n",
    "        * `None`\n",
    "    * boucles `for` et `while`\n",
    "    * confitions \n",
    "    * fonctions \n",
    "    * gestion des exceptions `try / except` (https://docs.python.org/3/library/exceptions.html)"
   ]
  },
  {
   "cell_type": "code",
   "execution_count": 1,
   "id": "92269232",
   "metadata": {},
   "outputs": [
    {
     "ename": "TypeError",
     "evalue": "unsupported operand type(s) for +: 'int' and 'str'",
     "output_type": "error",
     "traceback": [
      "\u001b[0;31m---------------------------------------------------------------------------\u001b[0m",
      "\u001b[0;31mTypeError\u001b[0m                                 Traceback (most recent call last)",
      "Input \u001b[0;32mIn [1]\u001b[0m, in \u001b[0;36m<module>\u001b[0;34m\u001b[0m\n\u001b[0;32m----> 1\u001b[0m \u001b[38;5;241;43m1\u001b[39;49m\u001b[43m \u001b[49m\u001b[38;5;241;43m+\u001b[39;49m\u001b[43m \u001b[49m\u001b[38;5;124;43m\"\u001b[39;49m\u001b[38;5;124;43m1\u001b[39;49m\u001b[38;5;124;43m\"\u001b[39;49m\n",
      "\u001b[0;31mTypeError\u001b[0m: unsupported operand type(s) for +: 'int' and 'str'"
     ]
    }
   ],
   "source": [
    "1 + \"1\""
   ]
  },
  {
   "cell_type": "code",
   "execution_count": 6,
   "id": "fe827501",
   "metadata": {},
   "outputs": [
    {
     "data": {
      "text/plain": [
       "True"
      ]
     },
     "execution_count": 6,
     "metadata": {},
     "output_type": "execute_result"
    }
   ],
   "source": [
    "\"s\" in \"salut les copains\""
   ]
  },
  {
   "cell_type": "code",
   "execution_count": 3,
   "id": "40e598ae",
   "metadata": {},
   "outputs": [
    {
     "data": {
      "text/plain": [
       "True"
      ]
     },
     "execution_count": 3,
     "metadata": {},
     "output_type": "execute_result"
    }
   ],
   "source": [
    "1 in [1, 2, 3]"
   ]
  },
  {
   "cell_type": "code",
   "execution_count": 10,
   "id": "0cc3eaaf",
   "metadata": {},
   "outputs": [
    {
     "name": "stdout",
     "output_type": "stream",
     "text": [
      "Help on built-in function index:\n",
      "\n",
      "index(...) method of builtins.str instance\n",
      "    S.index(sub[, start[, end]]) -> int\n",
      "    \n",
      "    Return the lowest index in S where substring sub is found,\n",
      "    such that sub is contained within S[start:end].  Optional\n",
      "    arguments start and end are interpreted as in slice notation.\n",
      "    \n",
      "    Raises ValueError when the substring is not found.\n",
      "\n"
     ]
    }
   ],
   "source": [
    "help(\"salut les copains\".index)"
   ]
  },
  {
   "cell_type": "code",
   "execution_count": null,
   "id": "0c9844d6",
   "metadata": {},
   "outputs": [],
   "source": [
    "\"salut les copains\".index"
   ]
  },
  {
   "cell_type": "code",
   "execution_count": 16,
   "id": "074cd55f",
   "metadata": {},
   "outputs": [
    {
     "name": "stdout",
     "output_type": "stream",
     "text": [
      "lnx00012.lnx.com\n"
     ]
    }
   ],
   "source": [
    "s = \"lnx00012\"\n",
    "result = f\"{s}.{s[:3]}.com\"\n",
    "print(result)"
   ]
  },
  {
   "cell_type": "code",
   "execution_count": 79,
   "id": "7a4a54ce",
   "metadata": {
    "scrolled": true
   },
   "outputs": [
    {
     "name": "stdout",
     "output_type": "stream",
     "text": [
      "On a un 0, on ne devrait pas division by zero <class 'ZeroDivisionError'>\n",
      "    1.00|    0.25|     NaN|    0.06|    0.04|      NA|    0.02|    0.01|    0.01|    0.01\n"
     ]
    }
   ],
   "source": [
    "# on veut transformer un \"CSV séparé par des lignes\" en \n",
    "# \"CSV avec des largeurs de colonnes fixes (5 chars) en mettant au carré chacun des éléments\" \n",
    "ligne = \"  1,   2   ,0,4,5 \\n ,  toto, 7, 9, 10, 11\"\n",
    "datas = ligne.split(\",\")\n",
    "\n",
    "data_sans_espaces = []\n",
    "for element in datas:\n",
    "    element_sans_espace = element.strip()  # on enleve les espaces\n",
    "    try:\n",
    "        element_transforme = float(1 / int(element_sans_espace)) ** 2\n",
    "        element_au_carre = f\"{element_transforme:.2f}\"\n",
    "    except ValueError:\n",
    "        element_au_carre = \"NA\"\n",
    "    except ArithmeticError as e:\n",
    "        print(\"On a un 0, on ne devrait pas\", e, type(e))\n",
    "        element_au_carre = \"NaN\"\n",
    "\n",
    "    data_sans_espaces.append(f'{element_au_carre:>8}')\n",
    "    ## différentes méthodes d'affichage, par affinité avec le formateur \n",
    "    ## elles font toutes la même chose\n",
    "    # print(f\"'{element_au_carre}'\")\n",
    "    # print(\"'{}'\".format(element_sans_espace))\n",
    "    # print(\"'%s'\" % (element_sans_espace,))\n",
    "    # print(\"'\" + str(element_sans_espace) + \"'\")\n",
    "\n",
    "print(\"|\".join(data_sans_espaces))\n"
   ]
  },
  {
   "cell_type": "code",
   "execution_count": 80,
   "id": "34b10538",
   "metadata": {},
   "outputs": [
    {
     "name": "stdout",
     "output_type": "stream",
     "text": [
      "[2, 4, 6]\n"
     ]
    }
   ],
   "source": [
    "data = [1, 2, 3]\n",
    "res = []\n",
    "for element in data:\n",
    "    res.append(element * 2)\n",
    "print(res)"
   ]
  },
  {
   "cell_type": "code",
   "execution_count": 82,
   "id": "947e326a",
   "metadata": {},
   "outputs": [
    {
     "name": "stdout",
     "output_type": "stream",
     "text": [
      "[2, 4, 6]\n"
     ]
    }
   ],
   "source": [
    "data = [1, 2, 3]\n",
    "res = [element * 2 for element in data]  # listes en compréhension (comprehension list)\n",
    "print(res)"
   ]
  },
  {
   "cell_type": "code",
   "execution_count": 86,
   "id": "4ad46562",
   "metadata": {},
   "outputs": [
    {
     "name": "stdout",
     "output_type": "stream",
     "text": [
      "On a un 0, on ne devrait pas division by zero <class 'ZeroDivisionError'>\n",
      "    1.00|    0.25|     NaN|    0.06|    0.04|      NA|    0.02|    0.01|    0.01|    0.01\n"
     ]
    }
   ],
   "source": [
    "def applique_la_transformee_de_falce(element):\n",
    "    \"\"\"Blabla \n",
    "    \n",
    "    Ecrit un message d'erreur si l'élément est à 0. \n",
    "    \"\"\"\n",
    "    element_sans_espace = element.strip()\n",
    "    try:\n",
    "        element_transforme = float(1 / int(element_sans_espace)) ** 2\n",
    "        element_au_carre = f\"{element_transforme:.2f}\"\n",
    "    except ValueError:\n",
    "        element_au_carre = \"NA\"\n",
    "    except ArithmeticError as e:\n",
    "        print(\"On a un 0, on ne devrait pas\", e, type(e))\n",
    "        element_au_carre = \"NaN\"\n",
    "\n",
    "    return f'{element_au_carre:>8}'\n",
    "\n",
    "\n",
    "ligne = \"  1,   2   ,0,4,5 \\n ,  toto, 7, 9, 10, 11\"\n",
    "data_sans_espaces = [traitement_cellule(e) for e in ligne.split(\",\")]\n",
    "print(\"|\".join(data_sans_espaces))"
   ]
  },
  {
   "cell_type": "code",
   "execution_count": null,
   "id": "259f6c98",
   "metadata": {},
   "outputs": [],
   "source": []
  },
  {
   "cell_type": "markdown",
   "id": "2e4f9f44",
   "metadata": {},
   "source": [
    "## Slices (Unix cat / tac / ...) "
   ]
  },
  {
   "cell_type": "code",
   "execution_count": 91,
   "id": "ce9a2c00",
   "metadata": {},
   "outputs": [
    {
     "name": "stdout",
     "output_type": "stream",
     "text": [
      "def traitement_cellule(element):\n",
      "    element_sans_espace = element.strip()  # on enleve les espaces\n",
      "    try:\n",
      "        element_transforme = float(1 / int(element_sans_espace)) ** 2\n",
      "        element_au_carre = f\"{element_transforme:.2f}\"\n",
      "    except ValueError:\n",
      "        element_au_carre = \"NA\"\n",
      "    except ArithmeticError as e:\n",
      "        print(\"On a un 0, on ne devrait pas\", e, type(e))\n",
      "        element_au_carre = \"NaN\"\n",
      "\n",
      "    return f\"{element_au_carre:>8}\"\n",
      "\n",
      "\n",
      "def applique_la_transformee_de_falce(element: str):\n",
      "    \"\"\"Blabla\n",
      "\n",
      "    Ecrit un message d'erreur si l'élément est à 0.\n",
      "    \"\"\"\n",
      "    element_sans_espace = element.strip()\n",
      "    try:\n",
      "        element_transforme = float(1 / int(element_sans_espace)) ** 2\n",
      "        element_au_carre = f\"{element_transforme:.2f}\"\n",
      "    except ValueError:\n",
      "        element_au_carre = \"NA\"\n",
      "    except ArithmeticError as e:\n",
      "        print(\"On a un 0, on ne devrait pas\", e, type(e))\n",
      "        element_au_carre = \"NaN\"\n",
      "\n",
      "    return f\"{element_au_carre:>8}\"\n",
      "\n"
     ]
    }
   ],
   "source": [
    "with open(\"./utils.py\") as f:\n",
    "    text = f.read()\n",
    "    print(text)"
   ]
  },
  {
   "cell_type": "code",
   "execution_count": 97,
   "id": "e417f708",
   "metadata": {},
   "outputs": [
    {
     "name": "stdout",
     "output_type": "stream",
     "text": [
      "def traitement_cellule(element):\n",
      "    element_sans_espace = element.strip()  # on enleve les espaces\n",
      "    try:\n",
      "        element_transforme = float(1 / int(element_sans_espace)) ** 2\n",
      "        element_au_carre = f\"{element_transforme:.2f}\"\n",
      "    except ValueError:\n",
      "        element_au_carre = \"NA\"\n",
      "    except ArithmeticError as e:\n",
      "        print(\"On a un 0, on ne devrait pas\", e, type(e))\n",
      "        element_au_carre = \"NaN\"\n",
      "\n",
      "    return f\"{element_au_carre:>8}\"\n",
      "\n",
      "\n",
      "def applique_la_transformee_de_falce(element: str):\n",
      "    \"\"\"Blabla\n",
      "\n",
      "    Ecrit un message d'erreur si l'élément est à 0.\n",
      "    \"\"\"\n",
      "    element_sans_espace = element.strip()\n",
      "    try:\n",
      "        element_transforme = float(1 / int(element_sans_espace)) ** 2\n",
      "        element_au_carre = f\"{element_transforme:.2f}\"\n",
      "    except ValueError:\n",
      "        element_au_carre = \"NA\"\n",
      "    except ArithmeticError as e:\n",
      "        print(\"On a un 0, on ne devrait pas\", e, type(e))\n",
      "        element_au_carre = \"NaN\"\n",
      "\n",
      "    return f\"{element_au_carre:>8}\"\n",
      "\n"
     ]
    }
   ],
   "source": [
    "with open(\"./utils.py\") as f:\n",
    "    text = f.read()\n",
    "    print(text)"
   ]
  },
  {
   "cell_type": "code",
   "execution_count": 93,
   "id": "fc880fd2",
   "metadata": {},
   "outputs": [
    {
     "name": "stdout",
     "output_type": "stream",
     "text": [
      "d e f\n",
      "a b c\n"
     ]
    }
   ],
   "source": [
    "lines = [\"a b c\", \"d e f\"]\n",
    "for line in reversed(lines):\n",
    "    print(line)"
   ]
  },
  {
   "cell_type": "code",
   "execution_count": 104,
   "id": "a62bb23d",
   "metadata": {},
   "outputs": [
    {
     "name": "stdout",
     "output_type": "stream",
     "text": [
      "    return f\"{element_au_carre:>8}\"\n",
      "\n",
      "        element_au_carre = \"NaN\"\n",
      "        print(\"On a un 0, on ne devrait pas\", e, type(e))\n",
      "    except ArithmeticError as e:\n",
      "        element_au_carre = \"NA\"\n",
      "    except ValueError:\n",
      "        element_au_carre = f\"{element_transforme:.2f}\"\n",
      "        element_transforme = float(1 / int(element_sans_espace)) ** 2\n",
      "    try:\n",
      "    element_sans_espace = element.strip()\n",
      "    \"\"\"\n",
      "    Ecrit un message d'erreur si l'élément est à 0.\n",
      "\n",
      "    \"\"\"Blabla\n",
      "def applique_la_transformee_de_falce(element: str):\n",
      "\n",
      "\n",
      "    return f\"{element_au_carre:>8}\"\n",
      "\n",
      "        element_au_carre = \"NaN\"\n",
      "        print(\"On a un 0, on ne devrait pas\", e, type(e))\n",
      "    except ArithmeticError as e:\n",
      "        element_au_carre = \"NA\"\n",
      "    except ValueError:\n",
      "        element_au_carre = f\"{element_transforme:.2f}\"\n",
      "        element_transforme = float(1 / int(element_sans_espace)) ** 2\n",
      "    try:\n",
      "    element_sans_espace = element.strip()  # on enleve les espaces\n",
      "def traitement_cellule(element):\n"
     ]
    }
   ],
   "source": [
    "with open(\"./utils.py\") as f:\n",
    "    lines = reversed(f.readlines())\n",
    "    for line in lines:\n",
    "        print(line.rstrip())"
   ]
  },
  {
   "cell_type": "code",
   "execution_count": 110,
   "id": "efbc11d4",
   "metadata": {},
   "outputs": [
    {
     "name": "stdout",
     "output_type": "stream",
     "text": [
      "def traitement_cellule(element):\n",
      "    element_sans_espace = element.strip()  # on enleve les espaces\n",
      "    try:\n",
      "        element_transforme = float(1 / int(element_sans_espace)) ** 2\n",
      "        element_au_carre = f\"{element_transforme:.2f}\"\n"
     ]
    }
   ],
   "source": [
    "with open(\"./utils.py\") as f:\n",
    "    lines = f.readlines()\n",
    "    for line in lines[:5]:\n",
    "        print(line.rstrip())"
   ]
  },
  {
   "cell_type": "code",
   "execution_count": 115,
   "id": "530365c1",
   "metadata": {},
   "outputs": [
    {
     "name": "stdout",
     "output_type": "stream",
     "text": [
      "    except ArithmeticError as e:\n",
      "        print(\"On a un 0, on ne devrait pas\", e, type(e))\n",
      "        element_au_carre = \"NaN\"\n",
      "\n",
      "    return f\"{element_au_carre:>8}\"\n"
     ]
    }
   ],
   "source": [
    "with open(\"./utils.py\") as f:\n",
    "    lines = f.readlines()\n",
    "    for line in lines[-5:]:\n",
    "        print(line.rstrip())"
   ]
  },
  {
   "cell_type": "code",
   "execution_count": 138,
   "id": "f3f0b2bd",
   "metadata": {},
   "outputs": [
    {
     "name": "stdout",
     "output_type": "stream",
     "text": [
      "        element_au_carre = f\"{element_transforme:.2f}\"\n",
      "    except ArithmeticError as e:\n",
      "\n",
      "\n",
      "\n",
      "    element_sans_espace = element.strip()\n"
     ]
    }
   ],
   "source": [
    "with open(\"./utils.py\") as f:\n",
    "    lines = f.readlines()\n",
    "    for line in lines[4:-10:3]:\n",
    "        print(line.rstrip())"
   ]
  },
  {
   "cell_type": "code",
   "execution_count": 123,
   "id": "dcf9e041",
   "metadata": {},
   "outputs": [
    {
     "data": {
      "text/plain": [
       "[5, 7, 9]"
      ]
     },
     "execution_count": 123,
     "metadata": {},
     "output_type": "execute_result"
    }
   ],
   "source": [
    "l = [1,2, 3, 4, 5, 6, 7, 8, 9, 10, 11, 12, 13, 14, 15]\n",
    "l[4:-5:2]"
   ]
  },
  {
   "cell_type": "code",
   "execution_count": 126,
   "id": "98420227",
   "metadata": {},
   "outputs": [
    {
     "data": {
      "text/plain": [
       "'py'"
      ]
     },
     "execution_count": 126,
     "metadata": {},
     "output_type": "execute_result"
    }
   ],
   "source": [
    "fname = \"./utils.py\"\n",
    "ext = fname[-2:]\n",
    "ext"
   ]
  },
  {
   "cell_type": "markdown",
   "id": "a3f09612",
   "metadata": {},
   "source": [
    "# Récap du matin \n",
    "\n",
    "* revu :\n",
    "    * slicing \n",
    "    * fonctions \n",
    "    * manipulation de listes \n",
    "* ouverture de fichiers avec les différents modes \n",
    "* trouver les docs \n",
    "* intéret de vscode (black, aide contextuelle)\n",
    "* context manager avec `with`"
   ]
  },
  {
   "cell_type": "code",
   "execution_count": 163,
   "id": "80632b8b",
   "metadata": {},
   "outputs": [
    {
     "name": "stdout",
     "output_type": "stream",
     "text": [
      "c'est pété\n",
      "dans le finally\n",
      "les fichier est fermé ? True\n"
     ]
    },
    {
     "ename": "Exception",
     "evalue": "",
     "output_type": "error",
     "traceback": [
      "\u001b[0;31m---------------------------------------------------------------------------\u001b[0m",
      "\u001b[0;31mException\u001b[0m                                 Traceback (most recent call last)",
      "Input \u001b[0;32mIn [163]\u001b[0m, in \u001b[0;36m<module>\u001b[0;34m\u001b[0m\n\u001b[1;32m      5\u001b[0m     \u001b[38;5;28;01mif\u001b[39;00m random\u001b[38;5;241m.\u001b[39mrandom() \u001b[38;5;241m>\u001b[39m \u001b[38;5;241m0.5\u001b[39m:\n\u001b[1;32m      6\u001b[0m         \u001b[38;5;28mprint\u001b[39m(\u001b[38;5;124m\"\u001b[39m\u001b[38;5;124mc\u001b[39m\u001b[38;5;124m'\u001b[39m\u001b[38;5;124mest pété\u001b[39m\u001b[38;5;124m\"\u001b[39m)\n\u001b[0;32m----> 7\u001b[0m         \u001b[38;5;28;01mraise\u001b[39;00m \u001b[38;5;167;01mException\u001b[39;00m\n\u001b[1;32m      8\u001b[0m \u001b[38;5;28;01mexcept\u001b[39;00m \u001b[38;5;167;01mFileNotFoundError\u001b[39;00m:\n\u001b[1;32m      9\u001b[0m     \u001b[38;5;28mprint\u001b[39m(\u001b[38;5;124m\"\u001b[39m\u001b[38;5;124mle fichier n\u001b[39m\u001b[38;5;124m'\u001b[39m\u001b[38;5;124mexiste pas\u001b[39m\u001b[38;5;124m\"\u001b[39m)\n",
      "\u001b[0;31mException\u001b[0m: "
     ]
    }
   ],
   "source": [
    "import random\n",
    "\n",
    "try:\n",
    "    f = open(\"./.ipynb_checkpoints/Jour 1-checkpoint.ipynb\")\n",
    "    if random.random() > 0.5:\n",
    "        print(\"c'est pété\")\n",
    "        raise Exception\n",
    "except FileNotFoundError:\n",
    "    print(\"le fichier n'existe pas\")\n",
    "finally:\n",
    "    print(\"dans le finally\")\n",
    "    f.close()\n",
    "    print(f\"les fichier est fermé ? {f.closed}\")\n",
    "print(f.closed)"
   ]
  },
  {
   "cell_type": "markdown",
   "id": "812c8a90",
   "metadata": {},
   "source": [
    "## Exercice dictionnaires\n",
    "\n",
    "Il faut compter le nombre d'éléments uniques. "
   ]
  },
  {
   "cell_type": "code",
   "execution_count": 132,
   "id": "bc774b90",
   "metadata": {},
   "outputs": [],
   "source": [
    "import random \n",
    "\n",
    "nombres = [random.randint(0, 10) for _ in range(100)]"
   ]
  },
  {
   "cell_type": "code",
   "execution_count": 175,
   "id": "8f2dbcd2",
   "metadata": {},
   "outputs": [],
   "source": [
    "comptage = []\n",
    "nombre_rencontres = []\n",
    "for nombre in nombres: \n",
    "    if nombre in nombre_rencontres:\n",
    "        continue\n",
    "    nombre_rencontres.append(nombre)\n",
    "    comptage.append(nombres.count(nombre))"
   ]
  },
  {
   "cell_type": "code",
   "execution_count": 178,
   "id": "df34cba7",
   "metadata": {},
   "outputs": [
    {
     "name": "stdout",
     "output_type": "stream",
     "text": [
      "Le nombre 8 apparait 9\n",
      "Le nombre 5 apparait 14\n",
      "Le nombre 3 apparait 9\n",
      "Le nombre 6 apparait 11\n",
      "Le nombre 9 apparait 8\n",
      "Le nombre 1 apparait 8\n",
      "Le nombre 4 apparait 7\n",
      "Le nombre 0 apparait 9\n",
      "Le nombre 2 apparait 7\n",
      "Le nombre 7 apparait 12\n",
      "Le nombre 10 apparait 6\n"
     ]
    }
   ],
   "source": [
    "for index in range(len(comptage)):\n",
    "    print(f\"Le nombre {nombre_rencontres[index]} apparait {comptage[index]}\")"
   ]
  },
  {
   "cell_type": "code",
   "execution_count": 195,
   "id": "02927602",
   "metadata": {},
   "outputs": [
    {
     "name": "stdout",
     "output_type": "stream",
     "text": [
      "(8, 9)\n",
      "(5, 14)\n",
      "(3, 9)\n",
      "(6, 11)\n",
      "(9, 8)\n",
      "(1, 8)\n",
      "(4, 7)\n",
      "(0, 9)\n",
      "(2, 7)\n",
      "(7, 12)\n",
      "(10, 6)\n"
     ]
    }
   ],
   "source": [
    "for res in zip(nombre_rencontres, comptage):\n",
    "    print(res)"
   ]
  },
  {
   "cell_type": "code",
   "execution_count": 179,
   "id": "a48356a7",
   "metadata": {},
   "outputs": [],
   "source": [
    "a = [True, 3432]\n",
    "sucess = a[0]\n",
    "resultat = a[1]"
   ]
  },
  {
   "cell_type": "code",
   "execution_count": 180,
   "id": "450f8763",
   "metadata": {},
   "outputs": [],
   "source": [
    "succes, resultat = [True, 3242]"
   ]
  },
  {
   "cell_type": "code",
   "execution_count": 190,
   "id": "5ff5bdd0",
   "metadata": {},
   "outputs": [
    {
     "name": "stdout",
     "output_type": "stream",
     "text": [
      "0\n",
      "1\n",
      "[2, 3, 4]\n",
      "5\n",
      "6\n"
     ]
    }
   ],
   "source": [
    "premier, deuxieme, *autres, avant_dernier, dernier = [0, 1, 2, 3, 4, 5, 6]\n",
    "print(premier)\n",
    "print(deuxieme)\n",
    "print(autres)\n",
    "print(avant_dernier)\n",
    "print(dernier)"
   ]
  },
  {
   "cell_type": "code",
   "execution_count": 194,
   "id": "4df0278d",
   "metadata": {},
   "outputs": [
    {
     "name": "stdout",
     "output_type": "stream",
     "text": [
      "['', 'home', 'matthieu'] super_secret.txt\n"
     ]
    }
   ],
   "source": [
    "*path, filename = '/home/matthieu/super_secret.txt'.split(\"/\")\n",
    "print(path, filename)"
   ]
  },
  {
   "cell_type": "code",
   "execution_count": null,
   "id": "ed7aa380",
   "metadata": {},
   "outputs": [],
   "source": []
  }
 ],
 "metadata": {
  "kernelspec": {
   "display_name": "Python 3 (ipykernel)",
   "language": "python",
   "name": "python3"
  },
  "language_info": {
   "codemirror_mode": {
    "name": "ipython",
    "version": 3
   },
   "file_extension": ".py",
   "mimetype": "text/x-python",
   "name": "python",
   "nbconvert_exporter": "python",
   "pygments_lexer": "ipython3",
   "version": "3.8.10"
  }
 },
 "nbformat": 4,
 "nbformat_minor": 5
}
