{
 "cells": [
  {
   "cell_type": "markdown",
   "id": "a6aff8d6",
   "metadata": {},
   "source": [
    "# Récapitulatif\n",
    "\n",
    "* installation de python + venv + vscode \n",
    "    * créeer un `venv` : `python3 -m venv mon_venv` ("
   ]
  }
 ],
 "metadata": {
  "kernelspec": {
   "display_name": "Python 3 (ipykernel)",
   "language": "python",
   "name": "python3"
  },
  "language_info": {
   "codemirror_mode": {
    "name": "ipython",
    "version": 3
   },
   "file_extension": ".py",
   "mimetype": "text/x-python",
   "name": "python",
   "nbconvert_exporter": "python",
   "pygments_lexer": "ipython3",
   "version": "3.8.10"
  }
 },
 "nbformat": 4,
 "nbformat_minor": 5
}
