{
 "cells": [
  {
   "cell_type": "markdown",
   "id": "9bf5fbb4",
   "metadata": {},
   "source": [
    "# Récapitulatif\n",
    "\n",
    "* écosystème\n",
    "    * installation de python + venv + vscode \n",
    "        * créer un `venv` : `python3 -m venv mon_venv` (il existe un autre module `virtualenv`)\n",
    "        * on l'active : `source mon_venv/bin/activate` ou (sous windows) `mon_venv/Scripts/activate`\n",
    "    * dépendances tierces\n",
    "        * lister les dépendances installées pour les partager aux collègues : `pip freeze > requirements.txt`\n",
    "        * pour les installer à partir du requirements : `pip install -r requirements.txt`\n",
    "* syntaxe \n",
    "    * types de variables : \n",
    "        * nombres (int, float)\n",
    "        * listes (mutable, on peut changer un des éléments qui la consititue)\n",
    "        * chaines de charactères (immutable, ne peut pas être modifiée)\n",
    "        * `None`\n",
    "    * boucles `for` et `while`\n",
    "    * confitions \n",
    "    * fonctions \n",
    "    * gestion des exceptions `try / except`"
   ]
  },
  {
   "cell_type": "code",
   "execution_count": 1,
   "id": "092e8a9c",
   "metadata": {},
   "outputs": [
    {
     "ename": "TypeError",
     "evalue": "unsupported operand type(s) for +: 'int' and 'str'",
     "output_type": "error",
     "traceback": [
      "\u001b[0;31m---------------------------------------------------------------------------\u001b[0m",
      "\u001b[0;31mTypeError\u001b[0m                                 Traceback (most recent call last)",
      "Input \u001b[0;32mIn [1]\u001b[0m, in \u001b[0;36m<module>\u001b[0;34m\u001b[0m\n\u001b[0;32m----> 1\u001b[0m \u001b[38;5;241;43m1\u001b[39;49m\u001b[43m \u001b[49m\u001b[38;5;241;43m+\u001b[39;49m\u001b[43m \u001b[49m\u001b[38;5;124;43m\"\u001b[39;49m\u001b[38;5;124;43m1\u001b[39;49m\u001b[38;5;124;43m\"\u001b[39;49m\n",
      "\u001b[0;31mTypeError\u001b[0m: unsupported operand type(s) for +: 'int' and 'str'"
     ]
    }
   ],
   "source": [
    "1 + \"1\""
   ]
  },
  {
   "cell_type": "code",
   "execution_count": 6,
   "id": "44fed0ce",
   "metadata": {},
   "outputs": [
    {
     "data": {
      "text/plain": [
       "True"
      ]
     },
     "execution_count": 6,
     "metadata": {},
     "output_type": "execute_result"
    }
   ],
   "source": [
    "\"s\" in \"salut les copains\""
   ]
  },
  {
   "cell_type": "code",
   "execution_count": 3,
   "id": "6623662d",
   "metadata": {},
   "outputs": [
    {
     "data": {
      "text/plain": [
       "True"
      ]
     },
     "execution_count": 3,
     "metadata": {},
     "output_type": "execute_result"
    }
   ],
   "source": [
    "1 in [1, 2, 3]"
   ]
  },
  {
   "cell_type": "code",
   "execution_count": 10,
   "id": "145663da",
   "metadata": {},
   "outputs": [
    {
     "name": "stdout",
     "output_type": "stream",
     "text": [
      "Help on built-in function index:\n",
      "\n",
      "index(...) method of builtins.str instance\n",
      "    S.index(sub[, start[, end]]) -> int\n",
      "    \n",
      "    Return the lowest index in S where substring sub is found,\n",
      "    such that sub is contained within S[start:end].  Optional\n",
      "    arguments start and end are interpreted as in slice notation.\n",
      "    \n",
      "    Raises ValueError when the substring is not found.\n",
      "\n"
     ]
    }
   ],
   "source": [
    "help(\"salut les copains\".index)"
   ]
  },
  {
   "cell_type": "code",
   "execution_count": null,
   "id": "951e3b64",
   "metadata": {},
   "outputs": [],
   "source": [
    "\"salut les copains\".index"
   ]
  },
  {
   "cell_type": "code",
   "execution_count": 16,
   "id": "7e9b4f52",
   "metadata": {},
   "outputs": [
    {
     "name": "stdout",
     "output_type": "stream",
     "text": [
      "lnx00012.lnx.com\n"
     ]
    }
   ],
   "source": [
    "s = \"lnx00012\"\n",
    "result = f\"{s}.{s[:3]}.com\"\n",
    "print(result)"
   ]
  },
  {
   "cell_type": "code",
   "execution_count": null,
   "id": "4a6bee77",
   "metadata": {},
   "outputs": [],
   "source": []
  }
 ],
 "metadata": {
  "kernelspec": {
   "display_name": "Python 3 (ipykernel)",
   "language": "python",
   "name": "python3"
  },
  "language_info": {
   "codemirror_mode": {
    "name": "ipython",
    "version": 3
   },
   "file_extension": ".py",
   "mimetype": "text/x-python",
   "name": "python",
   "nbconvert_exporter": "python",
   "pygments_lexer": "ipython3",
   "version": "3.8.10"
  }
 },
 "nbformat": 4,
 "nbformat_minor": 5
}
