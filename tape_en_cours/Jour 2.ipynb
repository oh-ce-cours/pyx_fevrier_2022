{
 "cells": [
  {
   "cell_type": "markdown",
   "id": "05311093",
   "metadata": {},
   "source": [
    "# Récapitulatif\n",
    "\n",
    "* écosystème\n",
    "    * installation de python + venv + vscode \n",
    "        * créer un `venv` : `python3 -m venv mon_venv` (il existe un autre module `virtualenv`)\n",
    "        * on l'active : `source mon_venv/bin/activate` ou (sous windows) `mon_venv/Scripts/activate`\n",
    "    * dépendances tierces\n",
    "        * lister les dépendances installées pour les partager aux collègues : `pip freeze > requirements.txt`\n",
    "        * pour les installer à partir du requirements : `pip install -r requirements.txt`\n",
    "* syntaxe \n",
    "    * types de variables : (https://docs.python.org/fr/3.8/library/stdtypes.html)\n",
    "        * nombres (int, float)\n",
    "        * listes (mutable, on peut changer un des éléments qui la consititue)\n",
    "        * chaines de charactères (immutable, ne peut pas être modifiée)\n",
    "        * `None`\n",
    "    * boucles `for` et `while`\n",
    "    * confitions \n",
    "    * fonctions \n",
    "    * gestion des exceptions `try / except` (https://docs.python.org/3/library/exceptions.html)"
   ]
  },
  {
   "cell_type": "code",
   "execution_count": 1,
   "id": "75713ed9",
   "metadata": {},
   "outputs": [
    {
     "ename": "TypeError",
     "evalue": "unsupported operand type(s) for +: 'int' and 'str'",
     "output_type": "error",
     "traceback": [
      "\u001b[0;31m---------------------------------------------------------------------------\u001b[0m",
      "\u001b[0;31mTypeError\u001b[0m                                 Traceback (most recent call last)",
      "Input \u001b[0;32mIn [1]\u001b[0m, in \u001b[0;36m<module>\u001b[0;34m\u001b[0m\n\u001b[0;32m----> 1\u001b[0m \u001b[38;5;241;43m1\u001b[39;49m\u001b[43m \u001b[49m\u001b[38;5;241;43m+\u001b[39;49m\u001b[43m \u001b[49m\u001b[38;5;124;43m\"\u001b[39;49m\u001b[38;5;124;43m1\u001b[39;49m\u001b[38;5;124;43m\"\u001b[39;49m\n",
      "\u001b[0;31mTypeError\u001b[0m: unsupported operand type(s) for +: 'int' and 'str'"
     ]
    }
   ],
   "source": [
    "1 + \"1\""
   ]
  },
  {
   "cell_type": "code",
   "execution_count": 6,
   "id": "d5aab26f",
   "metadata": {},
   "outputs": [
    {
     "data": {
      "text/plain": [
       "True"
      ]
     },
     "execution_count": 6,
     "metadata": {},
     "output_type": "execute_result"
    }
   ],
   "source": [
    "\"s\" in \"salut les copains\""
   ]
  },
  {
   "cell_type": "code",
   "execution_count": 3,
   "id": "009fe93b",
   "metadata": {},
   "outputs": [
    {
     "data": {
      "text/plain": [
       "True"
      ]
     },
     "execution_count": 3,
     "metadata": {},
     "output_type": "execute_result"
    }
   ],
   "source": [
    "1 in [1, 2, 3]"
   ]
  },
  {
   "cell_type": "code",
   "execution_count": 10,
   "id": "21d3af77",
   "metadata": {},
   "outputs": [
    {
     "name": "stdout",
     "output_type": "stream",
     "text": [
      "Help on built-in function index:\n",
      "\n",
      "index(...) method of builtins.str instance\n",
      "    S.index(sub[, start[, end]]) -> int\n",
      "    \n",
      "    Return the lowest index in S where substring sub is found,\n",
      "    such that sub is contained within S[start:end].  Optional\n",
      "    arguments start and end are interpreted as in slice notation.\n",
      "    \n",
      "    Raises ValueError when the substring is not found.\n",
      "\n"
     ]
    }
   ],
   "source": [
    "help(\"salut les copains\".index)"
   ]
  },
  {
   "cell_type": "code",
   "execution_count": null,
   "id": "852794dd",
   "metadata": {},
   "outputs": [],
   "source": [
    "\"salut les copains\".index"
   ]
  },
  {
   "cell_type": "code",
   "execution_count": 16,
   "id": "2723982a",
   "metadata": {},
   "outputs": [
    {
     "name": "stdout",
     "output_type": "stream",
     "text": [
      "lnx00012.lnx.com\n"
     ]
    }
   ],
   "source": [
    "s = \"lnx00012\"\n",
    "result = f\"{s}.{s[:3]}.com\"\n",
    "print(result)"
   ]
  },
  {
   "cell_type": "code",
   "execution_count": 79,
   "id": "382c587f",
   "metadata": {
    "scrolled": true
   },
   "outputs": [
    {
     "name": "stdout",
     "output_type": "stream",
     "text": [
      "On a un 0, on ne devrait pas division by zero <class 'ZeroDivisionError'>\n",
      "    1.00|    0.25|     NaN|    0.06|    0.04|      NA|    0.02|    0.01|    0.01|    0.01\n"
     ]
    }
   ],
   "source": [
    "# on veut transformer un \"CSV séparé par des lignes\" en \n",
    "# \"CSV avec des largeurs de colonnes fixes (5 chars) en mettant au carré chacun des éléments\" \n",
    "ligne = \"  1,   2   ,0,4,5 \\n ,  toto, 7, 9, 10, 11\"\n",
    "datas = ligne.split(\",\")\n",
    "\n",
    "data_sans_espaces = []\n",
    "for element in datas:\n",
    "    element_sans_espace = element.strip()  # on enleve les espaces\n",
    "    try:\n",
    "        element_transforme = float(1 / int(element_sans_espace)) ** 2\n",
    "        element_au_carre = f\"{element_transforme:.2f}\"\n",
    "    except ValueError:\n",
    "        element_au_carre = \"NA\"\n",
    "    except ArithmeticError as e:\n",
    "        print(\"On a un 0, on ne devrait pas\", e, type(e))\n",
    "        element_au_carre = \"NaN\"\n",
    "\n",
    "    data_sans_espaces.append(f'{element_au_carre:>8}')\n",
    "    ## différentes méthodes d'affichage, par affinité avec le formateur \n",
    "    ## elles font toutes la même chose\n",
    "    # print(f\"'{element_au_carre}'\")\n",
    "    # print(\"'{}'\".format(element_sans_espace))\n",
    "    # print(\"'%s'\" % (element_sans_espace,))\n",
    "    # print(\"'\" + str(element_sans_espace) + \"'\")\n",
    "\n",
    "print(\"|\".join(data_sans_espaces))\n"
   ]
  },
  {
   "cell_type": "code",
   "execution_count": 80,
   "id": "ef5f0c58",
   "metadata": {},
   "outputs": [
    {
     "name": "stdout",
     "output_type": "stream",
     "text": [
      "[2, 4, 6]\n"
     ]
    }
   ],
   "source": [
    "data = [1, 2, 3]\n",
    "res = []\n",
    "for element in data:\n",
    "    res.append(element * 2)\n",
    "print(res)"
   ]
  },
  {
   "cell_type": "code",
   "execution_count": 82,
   "id": "a2209f21",
   "metadata": {},
   "outputs": [
    {
     "name": "stdout",
     "output_type": "stream",
     "text": [
      "[2, 4, 6]\n"
     ]
    }
   ],
   "source": [
    "data = [1, 2, 3]\n",
    "res = [element * 2 for element in data]  # listes en compréhension (comprehension list)\n",
    "print(res)"
   ]
  },
  {
   "cell_type": "code",
   "execution_count": 86,
   "id": "dc6053ca",
   "metadata": {},
   "outputs": [
    {
     "name": "stdout",
     "output_type": "stream",
     "text": [
      "On a un 0, on ne devrait pas division by zero <class 'ZeroDivisionError'>\n",
      "    1.00|    0.25|     NaN|    0.06|    0.04|      NA|    0.02|    0.01|    0.01|    0.01\n"
     ]
    }
   ],
   "source": [
    "def applique_la_transformee_de_falce(element):\n",
    "    \"\"\"Blabla \n",
    "    \n",
    "    Ecrit un message d'erreur si l'élément est à 0. \n",
    "    \"\"\"\n",
    "    element_sans_espace = element.strip()\n",
    "    try:\n",
    "        element_transforme = float(1 / int(element_sans_espace)) ** 2\n",
    "        element_au_carre = f\"{element_transforme:.2f}\"\n",
    "    except ValueError:\n",
    "        element_au_carre = \"NA\"\n",
    "    except ArithmeticError as e:\n",
    "        print(\"On a un 0, on ne devrait pas\", e, type(e))\n",
    "        element_au_carre = \"NaN\"\n",
    "\n",
    "    return f'{element_au_carre:>8}'\n",
    "\n",
    "\n",
    "ligne = \"  1,   2   ,0,4,5 \\n ,  toto, 7, 9, 10, 11\"\n",
    "data_sans_espaces = [traitement_cellule(e) for e in ligne.split(\",\")]\n",
    "print(\"|\".join(data_sans_espaces))"
   ]
  },
  {
   "cell_type": "code",
   "execution_count": null,
   "id": "6f774cd2",
   "metadata": {},
   "outputs": [],
   "source": []
  },
  {
   "cell_type": "markdown",
   "id": "0fd7ed67",
   "metadata": {},
   "source": [
    "## Slices (Unix cat / tac / ...) "
   ]
  },
  {
   "cell_type": "code",
   "execution_count": 91,
   "id": "65e10dc3",
   "metadata": {},
   "outputs": [
    {
     "name": "stdout",
     "output_type": "stream",
     "text": [
      "def traitement_cellule(element):\n",
      "    element_sans_espace = element.strip()  # on enleve les espaces\n",
      "    try:\n",
      "        element_transforme = float(1 / int(element_sans_espace)) ** 2\n",
      "        element_au_carre = f\"{element_transforme:.2f}\"\n",
      "    except ValueError:\n",
      "        element_au_carre = \"NA\"\n",
      "    except ArithmeticError as e:\n",
      "        print(\"On a un 0, on ne devrait pas\", e, type(e))\n",
      "        element_au_carre = \"NaN\"\n",
      "\n",
      "    return f\"{element_au_carre:>8}\"\n",
      "\n",
      "\n",
      "def applique_la_transformee_de_falce(element: str):\n",
      "    \"\"\"Blabla\n",
      "\n",
      "    Ecrit un message d'erreur si l'élément est à 0.\n",
      "    \"\"\"\n",
      "    element_sans_espace = element.strip()\n",
      "    try:\n",
      "        element_transforme = float(1 / int(element_sans_espace)) ** 2\n",
      "        element_au_carre = f\"{element_transforme:.2f}\"\n",
      "    except ValueError:\n",
      "        element_au_carre = \"NA\"\n",
      "    except ArithmeticError as e:\n",
      "        print(\"On a un 0, on ne devrait pas\", e, type(e))\n",
      "        element_au_carre = \"NaN\"\n",
      "\n",
      "    return f\"{element_au_carre:>8}\"\n",
      "\n"
     ]
    }
   ],
   "source": [
    "with open(\"./utils.py\") as f:\n",
    "    text = f.read()\n",
    "    print(text)"
   ]
  },
  {
   "cell_type": "code",
   "execution_count": 97,
   "id": "30909d52",
   "metadata": {},
   "outputs": [
    {
     "name": "stdout",
     "output_type": "stream",
     "text": [
      "def traitement_cellule(element):\n",
      "    element_sans_espace = element.strip()  # on enleve les espaces\n",
      "    try:\n",
      "        element_transforme = float(1 / int(element_sans_espace)) ** 2\n",
      "        element_au_carre = f\"{element_transforme:.2f}\"\n",
      "    except ValueError:\n",
      "        element_au_carre = \"NA\"\n",
      "    except ArithmeticError as e:\n",
      "        print(\"On a un 0, on ne devrait pas\", e, type(e))\n",
      "        element_au_carre = \"NaN\"\n",
      "\n",
      "    return f\"{element_au_carre:>8}\"\n",
      "\n",
      "\n",
      "def applique_la_transformee_de_falce(element: str):\n",
      "    \"\"\"Blabla\n",
      "\n",
      "    Ecrit un message d'erreur si l'élément est à 0.\n",
      "    \"\"\"\n",
      "    element_sans_espace = element.strip()\n",
      "    try:\n",
      "        element_transforme = float(1 / int(element_sans_espace)) ** 2\n",
      "        element_au_carre = f\"{element_transforme:.2f}\"\n",
      "    except ValueError:\n",
      "        element_au_carre = \"NA\"\n",
      "    except ArithmeticError as e:\n",
      "        print(\"On a un 0, on ne devrait pas\", e, type(e))\n",
      "        element_au_carre = \"NaN\"\n",
      "\n",
      "    return f\"{element_au_carre:>8}\"\n",
      "\n"
     ]
    }
   ],
   "source": [
    "with open(\"./utils.py\") as f:\n",
    "    text = f.read()\n",
    "    print(text)"
   ]
  },
  {
   "cell_type": "code",
   "execution_count": 93,
   "id": "e551ed55",
   "metadata": {},
   "outputs": [
    {
     "name": "stdout",
     "output_type": "stream",
     "text": [
      "d e f\n",
      "a b c\n"
     ]
    }
   ],
   "source": [
    "lines = [\"a b c\", \"d e f\"]\n",
    "for line in reversed(lines):\n",
    "    print(line)"
   ]
  },
  {
   "cell_type": "code",
   "execution_count": 104,
   "id": "7dcfe178",
   "metadata": {},
   "outputs": [
    {
     "name": "stdout",
     "output_type": "stream",
     "text": [
      "    return f\"{element_au_carre:>8}\"\n",
      "\n",
      "        element_au_carre = \"NaN\"\n",
      "        print(\"On a un 0, on ne devrait pas\", e, type(e))\n",
      "    except ArithmeticError as e:\n",
      "        element_au_carre = \"NA\"\n",
      "    except ValueError:\n",
      "        element_au_carre = f\"{element_transforme:.2f}\"\n",
      "        element_transforme = float(1 / int(element_sans_espace)) ** 2\n",
      "    try:\n",
      "    element_sans_espace = element.strip()\n",
      "    \"\"\"\n",
      "    Ecrit un message d'erreur si l'élément est à 0.\n",
      "\n",
      "    \"\"\"Blabla\n",
      "def applique_la_transformee_de_falce(element: str):\n",
      "\n",
      "\n",
      "    return f\"{element_au_carre:>8}\"\n",
      "\n",
      "        element_au_carre = \"NaN\"\n",
      "        print(\"On a un 0, on ne devrait pas\", e, type(e))\n",
      "    except ArithmeticError as e:\n",
      "        element_au_carre = \"NA\"\n",
      "    except ValueError:\n",
      "        element_au_carre = f\"{element_transforme:.2f}\"\n",
      "        element_transforme = float(1 / int(element_sans_espace)) ** 2\n",
      "    try:\n",
      "    element_sans_espace = element.strip()  # on enleve les espaces\n",
      "def traitement_cellule(element):\n"
     ]
    }
   ],
   "source": [
    "with open(\"./utils.py\") as f:\n",
    "    lines = reversed(f.readlines())\n",
    "    for line in lines:\n",
    "        print(line.rstrip())"
   ]
  },
  {
   "cell_type": "code",
   "execution_count": 110,
   "id": "eb4ff6d1",
   "metadata": {},
   "outputs": [
    {
     "name": "stdout",
     "output_type": "stream",
     "text": [
      "def traitement_cellule(element):\n",
      "    element_sans_espace = element.strip()  # on enleve les espaces\n",
      "    try:\n",
      "        element_transforme = float(1 / int(element_sans_espace)) ** 2\n",
      "        element_au_carre = f\"{element_transforme:.2f}\"\n"
     ]
    }
   ],
   "source": [
    "with open(\"./utils.py\") as f:\n",
    "    lines = f.readlines()\n",
    "    for line in lines[:5]:\n",
    "        print(line.rstrip())"
   ]
  },
  {
   "cell_type": "code",
   "execution_count": 115,
   "id": "98988149",
   "metadata": {},
   "outputs": [
    {
     "name": "stdout",
     "output_type": "stream",
     "text": [
      "    except ArithmeticError as e:\n",
      "        print(\"On a un 0, on ne devrait pas\", e, type(e))\n",
      "        element_au_carre = \"NaN\"\n",
      "\n",
      "    return f\"{element_au_carre:>8}\"\n"
     ]
    }
   ],
   "source": [
    "with open(\"./utils.py\") as f:\n",
    "    lines = f.readlines()\n",
    "    for line in lines[-5:]:\n",
    "        print(line.rstrip())"
   ]
  },
  {
   "cell_type": "code",
   "execution_count": 138,
   "id": "e2348f56",
   "metadata": {},
   "outputs": [
    {
     "name": "stdout",
     "output_type": "stream",
     "text": [
      "        element_au_carre = f\"{element_transforme:.2f}\"\n",
      "    except ArithmeticError as e:\n",
      "\n",
      "\n",
      "\n",
      "    element_sans_espace = element.strip()\n"
     ]
    }
   ],
   "source": [
    "with open(\"./utils.py\") as f:\n",
    "    lines = f.readlines()\n",
    "    for line in lines[4:-10:3]:\n",
    "        print(line.rstrip())"
   ]
  },
  {
   "cell_type": "code",
   "execution_count": 123,
   "id": "dd6726b4",
   "metadata": {},
   "outputs": [
    {
     "data": {
      "text/plain": [
       "[5, 7, 9]"
      ]
     },
     "execution_count": 123,
     "metadata": {},
     "output_type": "execute_result"
    }
   ],
   "source": [
    "l = [1,2, 3, 4, 5, 6, 7, 8, 9, 10, 11, 12, 13, 14, 15]\n",
    "l[4:-5:2]"
   ]
  },
  {
   "cell_type": "code",
   "execution_count": 126,
   "id": "e31b8505",
   "metadata": {},
   "outputs": [
    {
     "data": {
      "text/plain": [
       "'py'"
      ]
     },
     "execution_count": 126,
     "metadata": {},
     "output_type": "execute_result"
    }
   ],
   "source": [
    "fname = \"./utils.py\"\n",
    "ext = fname[-2:]\n",
    "ext"
   ]
  },
  {
   "cell_type": "markdown",
   "id": "cd2ccabc",
   "metadata": {},
   "source": [
    "# Récap du matin \n",
    "\n",
    "* revu :\n",
    "    * slicing \n",
    "    * fonctions \n",
    "    * manipulation de listes \n",
    "* ouverture de fichiers avec les différents modes \n",
    "* trouver les docs \n",
    "* intéret de vscode (black, aide contextuelle)\n",
    "* context manager avec `with`"
   ]
  },
  {
   "cell_type": "code",
   "execution_count": 163,
   "id": "b81f0631",
   "metadata": {},
   "outputs": [
    {
     "name": "stdout",
     "output_type": "stream",
     "text": [
      "c'est pété\n",
      "dans le finally\n",
      "les fichier est fermé ? True\n"
     ]
    },
    {
     "ename": "Exception",
     "evalue": "",
     "output_type": "error",
     "traceback": [
      "\u001b[0;31m---------------------------------------------------------------------------\u001b[0m",
      "\u001b[0;31mException\u001b[0m                                 Traceback (most recent call last)",
      "Input \u001b[0;32mIn [163]\u001b[0m, in \u001b[0;36m<module>\u001b[0;34m\u001b[0m\n\u001b[1;32m      5\u001b[0m     \u001b[38;5;28;01mif\u001b[39;00m random\u001b[38;5;241m.\u001b[39mrandom() \u001b[38;5;241m>\u001b[39m \u001b[38;5;241m0.5\u001b[39m:\n\u001b[1;32m      6\u001b[0m         \u001b[38;5;28mprint\u001b[39m(\u001b[38;5;124m\"\u001b[39m\u001b[38;5;124mc\u001b[39m\u001b[38;5;124m'\u001b[39m\u001b[38;5;124mest pété\u001b[39m\u001b[38;5;124m\"\u001b[39m)\n\u001b[0;32m----> 7\u001b[0m         \u001b[38;5;28;01mraise\u001b[39;00m \u001b[38;5;167;01mException\u001b[39;00m\n\u001b[1;32m      8\u001b[0m \u001b[38;5;28;01mexcept\u001b[39;00m \u001b[38;5;167;01mFileNotFoundError\u001b[39;00m:\n\u001b[1;32m      9\u001b[0m     \u001b[38;5;28mprint\u001b[39m(\u001b[38;5;124m\"\u001b[39m\u001b[38;5;124mle fichier n\u001b[39m\u001b[38;5;124m'\u001b[39m\u001b[38;5;124mexiste pas\u001b[39m\u001b[38;5;124m\"\u001b[39m)\n",
      "\u001b[0;31mException\u001b[0m: "
     ]
    }
   ],
   "source": [
    "import random\n",
    "\n",
    "try:\n",
    "    f = open(\"./.ipynb_checkpoints/Jour 1-checkpoint.ipynb\")\n",
    "    if random.random() > 0.5:\n",
    "        print(\"c'est pété\")\n",
    "        raise Exception\n",
    "except FileNotFoundError:\n",
    "    print(\"le fichier n'existe pas\")\n",
    "finally:\n",
    "    print(\"dans le finally\")\n",
    "    f.close()\n",
    "    print(f\"les fichier est fermé ? {f.closed}\")\n",
    "print(f.closed)"
   ]
  },
  {
   "cell_type": "markdown",
   "id": "c719cc9b",
   "metadata": {},
   "source": [
    "## Exercice dictionnaires\n",
    "\n",
    "Il faut compter le nombre d'éléments uniques. "
   ]
  },
  {
   "cell_type": "code",
   "execution_count": 217,
   "id": "890a07c0",
   "metadata": {},
   "outputs": [
    {
     "name": "stdout",
     "output_type": "stream",
     "text": [
      "[1, 7, 6, 5, 5, 2, 6, 10, 8, 9, 3, 5, 10, 7, 7, 1, 5, 0, 1, 4, 8, 2, 6, 7, 9, 0, 9, 4, 10, 6, 3, 8, 0, 1, 5, 2, 6, 3, 8, 7, 1, 10, 10, 10, 6, 7, 2, 9, 3, 5, 6, 5, 3, 7, 7, 0, 4, 3, 6, 7, 2, 7, 8, 0, 0, 5, 4, 2, 5, 1, 1, 4, 2, 2, 9, 5, 9, 1, 7, 8, 6, 10, 5, 2, 5, 8, 6, 8, 6, 10, 2, 10, 10, 6, 8, 9, 9, 10, 10, 9]\n"
     ]
    }
   ],
   "source": [
    "import random \n",
    "\n",
    "nombres = [random.randint(0, 10) for _ in range(100)]\n",
    "print(nombres)"
   ]
  },
  {
   "cell_type": "code",
   "execution_count": 198,
   "id": "eb46655c",
   "metadata": {},
   "outputs": [],
   "source": [
    "comptage = []\n",
    "nombre_rencontres = []\n",
    "for nombre in nombres: \n",
    "    if nombre in nombre_rencontres:\n",
    "        continue\n",
    "    nombre_rencontres.append(nombre)\n",
    "    comptage.append(nombres.count(nombre))"
   ]
  },
  {
   "cell_type": "code",
   "execution_count": 219,
   "id": "69896b77",
   "metadata": {},
   "outputs": [
    {
     "name": "stdout",
     "output_type": "stream",
     "text": [
      "{1: 8, 7: 11, 6: 12, 5: 12, 2: 10, 10: 12, 8: 9, 9: 9, 3: 6, 0: 6, 4: 5}\n"
     ]
    }
   ],
   "source": [
    "comptage_dict = {}\n",
    "for nombre in nombres: \n",
    "    if nombre not in comptage_dict:\n",
    "        comptage_dict[nombre] = 0\n",
    "    comptage_dict[nombre] += 1\n",
    "print(comptage_dict)"
   ]
  },
  {
   "cell_type": "code",
   "execution_count": 178,
   "id": "283a77a6",
   "metadata": {},
   "outputs": [
    {
     "name": "stdout",
     "output_type": "stream",
     "text": [
      "Le nombre 8 apparait 9\n",
      "Le nombre 5 apparait 14\n",
      "Le nombre 3 apparait 9\n",
      "Le nombre 6 apparait 11\n",
      "Le nombre 9 apparait 8\n",
      "Le nombre 1 apparait 8\n",
      "Le nombre 4 apparait 7\n",
      "Le nombre 0 apparait 9\n",
      "Le nombre 2 apparait 7\n",
      "Le nombre 7 apparait 12\n",
      "Le nombre 10 apparait 6\n"
     ]
    }
   ],
   "source": [
    "for index in range(len(comptage)):\n",
    "    print(f\"Le nombre {nombre_rencontres[index]} apparait {comptage[index]}\")"
   ]
  },
  {
   "cell_type": "code",
   "execution_count": 199,
   "id": "51115b4a",
   "metadata": {},
   "outputs": [
    {
     "name": "stdout",
     "output_type": "stream",
     "text": [
      "Le nombre 8 apparait 9\n",
      "Le nombre 5 apparait 14\n",
      "Le nombre 3 apparait 9\n",
      "Le nombre 6 apparait 11\n",
      "Le nombre 9 apparait 8\n",
      "Le nombre 1 apparait 8\n",
      "Le nombre 4 apparait 7\n",
      "Le nombre 0 apparait 9\n",
      "Le nombre 2 apparait 7\n",
      "Le nombre 7 apparait 12\n",
      "Le nombre 10 apparait 6\n"
     ]
    }
   ],
   "source": [
    "for nombre, compte in zip(nombre_rencontres, comptage):\n",
    "    print(f\"Le nombre {nombre} apparait {compte}\")"
   ]
  },
  {
   "cell_type": "code",
   "execution_count": 179,
   "id": "a69623bb",
   "metadata": {},
   "outputs": [],
   "source": [
    "a = [True, 3432]\n",
    "sucess = a[0]\n",
    "resultat = a[1]"
   ]
  },
  {
   "cell_type": "code",
   "execution_count": 180,
   "id": "1058a0dd",
   "metadata": {},
   "outputs": [],
   "source": [
    "succes, resultat = [True, 3242]"
   ]
  },
  {
   "cell_type": "code",
   "execution_count": 190,
   "id": "64630f8d",
   "metadata": {},
   "outputs": [
    {
     "name": "stdout",
     "output_type": "stream",
     "text": [
      "0\n",
      "1\n",
      "[2, 3, 4]\n",
      "5\n",
      "6\n"
     ]
    }
   ],
   "source": [
    "premier, deuxieme, *autres, avant_dernier, dernier = [0, 1, 2, 3, 4, 5, 6]\n",
    "print(premier)\n",
    "print(deuxieme)\n",
    "print(autres)\n",
    "print(avant_dernier)\n",
    "print(dernier)"
   ]
  },
  {
   "cell_type": "code",
   "execution_count": 194,
   "id": "81bd21b0",
   "metadata": {},
   "outputs": [
    {
     "name": "stdout",
     "output_type": "stream",
     "text": [
      "['', 'home', 'matthieu'] super_secret.txt\n"
     ]
    }
   ],
   "source": [
    "*path, filename = '/home/matthieu/super_secret.txt'.split(\"/\")\n",
    "print(path, filename)"
   ]
  },
  {
   "cell_type": "code",
   "execution_count": 200,
   "id": "2cbbb884",
   "metadata": {},
   "outputs": [
    {
     "name": "stdout",
     "output_type": "stream",
     "text": [
      "3\n"
     ]
    }
   ],
   "source": [
    "succes, (res1, res2, res3, res4) = [True, (2, 3, 4, 5)]\n",
    "print(res2)"
   ]
  },
  {
   "cell_type": "code",
   "execution_count": 204,
   "id": "8ccce380",
   "metadata": {},
   "outputs": [
    {
     "name": "stdout",
     "output_type": "stream",
     "text": [
      "zero ['un', 'uno']\n"
     ]
    }
   ],
   "source": [
    "humanize = {\n",
    "    0: \"zero\",\n",
    "    1: [\"un\", \"uno\"],\n",
    "}\n",
    "print(humanize[0], humanize[1])"
   ]
  },
  {
   "cell_type": "code",
   "execution_count": 205,
   "id": "0c823bad",
   "metadata": {},
   "outputs": [
    {
     "ename": "KeyError",
     "evalue": "2",
     "output_type": "error",
     "traceback": [
      "\u001b[0;31m---------------------------------------------------------------------------\u001b[0m",
      "\u001b[0;31mKeyError\u001b[0m                                  Traceback (most recent call last)",
      "Input \u001b[0;32mIn [205]\u001b[0m, in \u001b[0;36m<module>\u001b[0;34m\u001b[0m\n\u001b[0;32m----> 1\u001b[0m \u001b[43mhumanize\u001b[49m\u001b[43m[\u001b[49m\u001b[38;5;241;43m2\u001b[39;49m\u001b[43m]\u001b[49m\n",
      "\u001b[0;31mKeyError\u001b[0m: 2"
     ]
    }
   ],
   "source": [
    "humanize[2]"
   ]
  },
  {
   "cell_type": "code",
   "execution_count": 212,
   "id": "4821215f",
   "metadata": {},
   "outputs": [],
   "source": [
    "larousse = {\n",
    "    \"python\": [\"le meilleur langage du monde\", \"un serpent pas beau\"],\n",
    "    \"javascript\": [\"le pire langage du monde\"]\n",
    "}"
   ]
  },
  {
   "cell_type": "code",
   "execution_count": 209,
   "id": "3a33921d",
   "metadata": {},
   "outputs": [
    {
     "data": {
      "text/plain": [
       "['le meilleur langage du monde', 'un serpent pas beau']"
      ]
     },
     "execution_count": 209,
     "metadata": {},
     "output_type": "execute_result"
    }
   ],
   "source": [
    "larousse[\"python\"]"
   ]
  },
  {
   "cell_type": "code",
   "execution_count": 210,
   "id": "5a9882eb",
   "metadata": {},
   "outputs": [
    {
     "data": {
      "text/plain": [
       "False"
      ]
     },
     "execution_count": 210,
     "metadata": {},
     "output_type": "execute_result"
    }
   ],
   "source": [
    "\"perl\" in larousse"
   ]
  },
  {
   "cell_type": "code",
   "execution_count": 215,
   "id": "0434b6fb",
   "metadata": {},
   "outputs": [],
   "source": [
    "larousse[\"perl\"] = [\"un concurrent de javascript sur le pire langage\"]"
   ]
  },
  {
   "cell_type": "code",
   "execution_count": 216,
   "id": "daec23af",
   "metadata": {},
   "outputs": [
    {
     "data": {
      "text/plain": [
       "{'python': ['le meilleur langage du monde', 'un serpent pas beau', 'toto'],\n",
       " 'javascript': ['le pire langage du monde'],\n",
       " 'perl': ['un concurrent de javascript sur le pire langage']}"
      ]
     },
     "execution_count": 216,
     "metadata": {},
     "output_type": "execute_result"
    }
   ],
   "source": [
    "larousse"
   ]
  },
  {
   "cell_type": "code",
   "execution_count": null,
   "id": "6deb7082",
   "metadata": {},
   "outputs": [],
   "source": []
  }
 ],
 "metadata": {
  "kernelspec": {
   "display_name": "Python 3 (ipykernel)",
   "language": "python",
   "name": "python3"
  },
  "language_info": {
   "codemirror_mode": {
    "name": "ipython",
    "version": 3
   },
   "file_extension": ".py",
   "mimetype": "text/x-python",
   "name": "python",
   "nbconvert_exporter": "python",
   "pygments_lexer": "ipython3",
   "version": "3.8.10"
  }
 },
 "nbformat": 4,
 "nbformat_minor": 5
}
