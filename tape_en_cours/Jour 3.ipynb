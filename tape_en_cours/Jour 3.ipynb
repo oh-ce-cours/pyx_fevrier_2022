{
 "cells": [
  {
   "cell_type": "markdown",
   "id": "ea4f3221",
   "metadata": {},
   "source": [
    "# Appeler des programmes bash avec Python "
   ]
  },
  {
   "cell_type": "code",
   "execution_count": 1,
   "id": "bb9143f9",
   "metadata": {},
   "outputs": [
    {
     "name": "stdout",
     "output_type": "stream",
     "text": [
      "ex1.py\n",
      "ex_poo.py\n",
      "Jour 1.ipynb\n",
      "Jour 2.ipynb\n",
      "Jour 3.ipynb\n",
      "log.txt\n",
      "recovered.py\n",
      "test.txt\n",
      "utils.py\n"
     ]
    },
    {
     "data": {
      "text/plain": [
       "0"
      ]
     },
     "execution_count": 1,
     "metadata": {},
     "output_type": "execute_result"
    }
   ],
   "source": [
    "import os\n",
    "os.system(\"ls\")\n"
   ]
  },
  {
   "cell_type": "code",
   "execution_count": 13,
   "id": "eb223d92",
   "metadata": {},
   "outputs": [],
   "source": [
    "from subprocess import Popen, PIPE\n",
    "pipe = Popen([\"ping\", \"-c\", \"5\",\"google.com\"], stdout=PIPE)\n",
    "text = pipe.communicate()"
   ]
  },
  {
   "cell_type": "code",
   "execution_count": 16,
   "id": "fd439e0e",
   "metadata": {},
   "outputs": [
    {
     "ename": "NameError",
     "evalue": "name 'unicodedata' is not defined",
     "output_type": "error",
     "traceback": [
      "\u001b[0;31m---------------------------------------------------------------------------\u001b[0m",
      "\u001b[0;31mNameError\u001b[0m                                 Traceback (most recent call last)",
      "Input \u001b[0;32mIn [16]\u001b[0m, in \u001b[0;36m<module>\u001b[0;34m\u001b[0m\n\u001b[1;32m      1\u001b[0m text2 \u001b[38;5;241m=\u001b[39m text[\u001b[38;5;241m0\u001b[39m]\n\u001b[0;32m----> 2\u001b[0m text3 \u001b[38;5;241m=\u001b[39m \u001b[43municodedata\u001b[49m\u001b[38;5;241m.\u001b[39mnormalize(\u001b[38;5;124m\"\u001b[39m\u001b[38;5;124mNFKD\u001b[39m\u001b[38;5;124m\"\u001b[39m, text2\u001b[38;5;241m.\u001b[39mdecode(\u001b[38;5;124m\"\u001b[39m\u001b[38;5;124mutf8\u001b[39m\u001b[38;5;124m\"\u001b[39m))\n",
      "\u001b[0;31mNameError\u001b[0m: name 'unicodedata' is not defined"
     ]
    }
   ],
   "source": [
    "text2 = text[0]\n",
    "text3 = unicodedata.normalize(\"NFKD\", text2.decode(\"utf8\"))\n"
   ]
  },
  {
   "cell_type": "code",
   "execution_count": 14,
   "id": "e94628e6",
   "metadata": {},
   "outputs": [
    {
     "data": {
      "text/plain": [
       "(b'PING google.com (216.58.215.46) 56(84) bytes of data.\\n64\\xc2\\xa0octets de par21s17-in-f14.1e100.net (216.58.215.46)\\xc2\\xa0: icmp_seq=1 ttl=115 temps=2.38\\xc2\\xa0ms\\n64\\xc2\\xa0octets de par21s17-in-f14.1e100.net (216.58.215.46)\\xc2\\xa0: icmp_seq=2 ttl=107 temps=12.5\\xc2\\xa0ms\\n64\\xc2\\xa0octets de par21s17-in-f14.1e100.net (216.58.215.46)\\xc2\\xa0: icmp_seq=3 ttl=107 temps=12.2\\xc2\\xa0ms\\n64\\xc2\\xa0octets de par21s17-in-f14.1e100.net (216.58.215.46)\\xc2\\xa0: icmp_seq=4 ttl=115 temps=2.26\\xc2\\xa0ms\\n64\\xc2\\xa0octets de par21s17-in-f14.1e100.net (216.58.215.46)\\xc2\\xa0: icmp_seq=5 ttl=115 temps=2.35\\xc2\\xa0ms\\n\\n--- statistiques ping google.com ---\\n5\\xc2\\xa0paquets transmis, 5 re\\xc3\\xa7us, 0\\xc2\\xa0% paquets perdus, temps 4006\\xc2\\xa0ms\\nrtt min/avg/max/mdev = 2.261/6.326/12.457/4.895 ms\\n',\n",
       " None)"
      ]
     },
     "execution_count": 14,
     "metadata": {},
     "output_type": "execute_result"
    }
   ],
   "source": [
    "text"
   ]
  },
  {
   "cell_type": "code",
   "execution_count": null,
   "id": "77cdc8b1",
   "metadata": {},
   "outputs": [],
   "source": []
  }
 ],
 "metadata": {
  "kernelspec": {
   "display_name": "Python 3 (ipykernel)",
   "language": "python",
   "name": "python3"
  },
  "language_info": {
   "codemirror_mode": {
    "name": "ipython",
    "version": 3
   },
   "file_extension": ".py",
   "mimetype": "text/x-python",
   "name": "python",
   "nbconvert_exporter": "python",
   "pygments_lexer": "ipython3",
   "version": "3.8.10"
  }
 },
 "nbformat": 4,
 "nbformat_minor": 5
}
