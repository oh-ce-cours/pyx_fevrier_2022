{
 "cells": [
  {
   "cell_type": "markdown",
   "id": "103efc84",
   "metadata": {},
   "source": [
    "# Appeler des programmes bash avec Python "
   ]
  },
  {
   "cell_type": "code",
   "execution_count": 1,
   "id": "71cfe89c",
   "metadata": {},
   "outputs": [
    {
     "name": "stdout",
     "output_type": "stream",
     "text": [
      "ex1.py\n",
      "ex_poo.py\n",
      "Jour 1.ipynb\n",
      "Jour 2.ipynb\n",
      "Jour 3.ipynb\n",
      "log.txt\n",
      "recovered.py\n",
      "test.txt\n",
      "utils.py\n"
     ]
    },
    {
     "data": {
      "text/plain": [
       "0"
      ]
     },
     "execution_count": 1,
     "metadata": {},
     "output_type": "execute_result"
    }
   ],
   "source": [
    "import os\n",
    "os.system(\"ls\")\n"
   ]
  },
  {
   "cell_type": "code",
   "execution_count": 17,
   "id": "0dcaeec3",
   "metadata": {},
   "outputs": [],
   "source": [
    "from subprocess import Popen, PIPE\n",
    "import unicodedata\n",
    "pipe = Popen([\"ping\", \"-c\", \"5\",\"google.com\"], stdout=PIPE)\n",
    "text = pipe.communicate()"
   ]
  },
  {
   "cell_type": "code",
   "execution_count": 18,
   "id": "d4023f42",
   "metadata": {},
   "outputs": [],
   "source": [
    "text2 = text[0]\n",
    "text3 = unicodedata.normalize(\"NFKD\", text2.decode(\"utf8\"))\n"
   ]
  },
  {
   "cell_type": "code",
   "execution_count": 22,
   "id": "508cc307",
   "metadata": {},
   "outputs": [
    {
     "data": {
      "text/plain": [
       "['PING google.com (216.58.215.46) 56(84) bytes of data.',\n",
       " '64 octets de par21s17-in-f14.1e100.net (216.58.215.46) : icmp_seq=1 ttl=115 temps=2.21 ms',\n",
       " '64 octets de par21s17-in-f14.1e100.net (216.58.215.46) : icmp_seq=2 ttl=107 temps=12.2 ms',\n",
       " '64 octets de par21s17-in-f14.1e100.net (216.58.215.46) : icmp_seq=3 ttl=115 temps=2.34 ms',\n",
       " '64 octets de par21s17-in-f14.1e100.net (216.58.215.46) : icmp_seq=4 ttl=115 temps=2.27 ms',\n",
       " '64 octets de par21s17-in-f14.1e100.net (216.58.215.46) : icmp_seq=5 ttl=107 temps=11.4 ms',\n",
       " '',\n",
       " '--- statistiques ping google.com ---',\n",
       " '5 paquets transmis, 5 reçus, 0 % paquets perdus, temps 4006 ms',\n",
       " 'rtt min/avg/max/mdev = 2.211/6.077/12.186/4.664 ms',\n",
       " '']"
      ]
     },
     "execution_count": 22,
     "metadata": {},
     "output_type": "execute_result"
    }
   ],
   "source": [
    "text3.split(\"\\n\")"
   ]
  },
  {
   "cell_type": "code",
   "execution_count": 26,
   "id": "4e4ad471",
   "metadata": {},
   "outputs": [
    {
     "name": "stdout",
     "output_type": "stream",
     "text": [
      "Match 1 was found at 0-89: 64 octets de par21s17-in-f14.1e100.net (216.58.215.46) : icmp_seq=1 ttl=115 temps=2.21 ms\n",
      "Group 1 found at 0-2: 64\n",
      "Group 2 found at 13-38: par21s17-in-f14.1e100.net\n",
      "Group 3 found at 40-53: 216.58.215.46\n",
      "Group 4 found at 66-67: 1\n",
      "Group 5 found at 72-75: 115\n",
      "Group 6 found at 82-86: 2.21\n",
      "Match 1 was found at 0-89: 64 octets de par21s17-in-f14.1e100.net (216.58.215.46) : icmp_seq=2 ttl=107 temps=12.2 ms\n",
      "Group 1 found at 0-2: 64\n",
      "Group 2 found at 13-38: par21s17-in-f14.1e100.net\n",
      "Group 3 found at 40-53: 216.58.215.46\n",
      "Group 4 found at 66-67: 2\n",
      "Group 5 found at 72-75: 107\n",
      "Group 6 found at 82-86: 12.2\n",
      "Match 1 was found at 0-89: 64 octets de par21s17-in-f14.1e100.net (216.58.215.46) : icmp_seq=3 ttl=115 temps=2.34 ms\n",
      "Group 1 found at 0-2: 64\n",
      "Group 2 found at 13-38: par21s17-in-f14.1e100.net\n",
      "Group 3 found at 40-53: 216.58.215.46\n",
      "Group 4 found at 66-67: 3\n",
      "Group 5 found at 72-75: 115\n",
      "Group 6 found at 82-86: 2.34\n",
      "Match 1 was found at 0-89: 64 octets de par21s17-in-f14.1e100.net (216.58.215.46) : icmp_seq=4 ttl=115 temps=2.27 ms\n",
      "Group 1 found at 0-2: 64\n",
      "Group 2 found at 13-38: par21s17-in-f14.1e100.net\n",
      "Group 3 found at 40-53: 216.58.215.46\n",
      "Group 4 found at 66-67: 4\n",
      "Group 5 found at 72-75: 115\n",
      "Group 6 found at 82-86: 2.27\n",
      "Match 1 was found at 0-89: 64 octets de par21s17-in-f14.1e100.net (216.58.215.46) : icmp_seq=5 ttl=107 temps=11.4 ms\n",
      "Group 1 found at 0-2: 64\n",
      "Group 2 found at 13-38: par21s17-in-f14.1e100.net\n",
      "Group 3 found at 40-53: 216.58.215.46\n",
      "Group 4 found at 66-67: 5\n",
      "Group 5 found at 72-75: 107\n",
      "Group 6 found at 82-86: 11.4\n"
     ]
    }
   ],
   "source": [
    "# coding=utf8\n",
    "# the above tag defines encoding for this document and is for Python 2.x compatibility\n",
    "\n",
    "import re\n",
    "\n",
    "regex = r\"(\\d.) octets de (.*) \\((.*)\\) : icmp_seq=(.*) ttl=(.*) temps=(.*) ms\"\n",
    "\n",
    "\n",
    "for line in text3.split(\"\\n\"):\n",
    "    matches = re.finditer(regex, line, re.MULTILINE)\n",
    "    for matchNum, match in enumerate(matches, start=1):\n",
    "\n",
    "        print (\"Match {matchNum} was found at {start}-{end}: {match}\".format(matchNum = matchNum, start = match.start(), end = match.end(), match = match.group()))\n",
    "\n",
    "        for groupNum in range(0, len(match.groups())):\n",
    "            groupNum = groupNum + 1\n",
    "\n",
    "            print (\"Group {groupNum} found at {start}-{end}: {group}\".format(groupNum = groupNum, start = match.start(groupNum), end = match.end(groupNum), group = match.group(groupNum)))\n"
   ]
  },
  {
   "cell_type": "code",
   "execution_count": null,
   "id": "e06e37b1",
   "metadata": {},
   "outputs": [],
   "source": []
  }
 ],
 "metadata": {
  "kernelspec": {
   "display_name": "Python 3 (ipykernel)",
   "language": "python",
   "name": "python3"
  },
  "language_info": {
   "codemirror_mode": {
    "name": "ipython",
    "version": 3
   },
   "file_extension": ".py",
   "mimetype": "text/x-python",
   "name": "python",
   "nbconvert_exporter": "python",
   "pygments_lexer": "ipython3",
   "version": "3.8.10"
  }
 },
 "nbformat": 4,
 "nbformat_minor": 5
}
