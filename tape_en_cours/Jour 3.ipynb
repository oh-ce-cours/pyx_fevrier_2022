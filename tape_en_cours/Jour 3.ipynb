{
 "cells": [
  {
   "cell_type": "markdown",
   "id": "b6b03e17",
   "metadata": {},
   "source": [
    "# Appeler des programmes bash avec Python "
   ]
  },
  {
   "cell_type": "code",
   "execution_count": 1,
   "id": "77168d6b",
   "metadata": {},
   "outputs": [
    {
     "name": "stdout",
     "output_type": "stream",
     "text": [
      "ex1.py\n",
      "ex_poo.py\n",
      "Jour 1.ipynb\n",
      "Jour 2.ipynb\n",
      "Jour 3.ipynb\n",
      "log.txt\n",
      "recovered.py\n",
      "test.txt\n",
      "utils.py\n"
     ]
    },
    {
     "data": {
      "text/plain": [
       "0"
      ]
     },
     "execution_count": 1,
     "metadata": {},
     "output_type": "execute_result"
    }
   ],
   "source": [
    "import os\n",
    "os.system(\"ls\")\n"
   ]
  },
  {
   "cell_type": "code",
   "execution_count": 17,
   "id": "bfe5919e",
   "metadata": {},
   "outputs": [],
   "source": [
    "from subprocess import Popen, PIPE\n",
    "import unicodedata\n",
    "pipe = Popen([\"ping\", \"-c\", \"5\",\"google.com\"], stdout=PIPE)\n",
    "text = pipe.communicate()"
   ]
  },
  {
   "cell_type": "code",
   "execution_count": 18,
   "id": "743ce058",
   "metadata": {},
   "outputs": [],
   "source": [
    "text2 = text[0]\n",
    "text3 = unicodedata.normalize(\"NFKD\", text2.decode(\"utf8\"))\n"
   ]
  },
  {
   "cell_type": "code",
   "execution_count": 22,
   "id": "9a514999",
   "metadata": {},
   "outputs": [
    {
     "data": {
      "text/plain": [
       "['PING google.com (216.58.215.46) 56(84) bytes of data.',\n",
       " '64 octets de par21s17-in-f14.1e100.net (216.58.215.46) : icmp_seq=1 ttl=115 temps=2.21 ms',\n",
       " '64 octets de par21s17-in-f14.1e100.net (216.58.215.46) : icmp_seq=2 ttl=107 temps=12.2 ms',\n",
       " '64 octets de par21s17-in-f14.1e100.net (216.58.215.46) : icmp_seq=3 ttl=115 temps=2.34 ms',\n",
       " '64 octets de par21s17-in-f14.1e100.net (216.58.215.46) : icmp_seq=4 ttl=115 temps=2.27 ms',\n",
       " '64 octets de par21s17-in-f14.1e100.net (216.58.215.46) : icmp_seq=5 ttl=107 temps=11.4 ms',\n",
       " '',\n",
       " '--- statistiques ping google.com ---',\n",
       " '5 paquets transmis, 5 reçus, 0 % paquets perdus, temps 4006 ms',\n",
       " 'rtt min/avg/max/mdev = 2.211/6.077/12.186/4.664 ms',\n",
       " '']"
      ]
     },
     "execution_count": 22,
     "metadata": {},
     "output_type": "execute_result"
    }
   ],
   "source": [
    "text3.split(\"\\n\")"
   ]
  },
  {
   "cell_type": "code",
   "execution_count": 43,
   "id": "5e4dc999",
   "metadata": {},
   "outputs": [],
   "source": [
    "# coding=utf8\n",
    "# the above tag defines encoding for this document and is for Python 2.x compatibility\n",
    "\n",
    "import re\n",
    "\n",
    "regex = r\"(?P<taille>\\d.) octets de (?P<adress>.*) \\((?P<ip>.*)\\) : icmp_seq=(?P<seq>.*) ttl=(?P<ttl>.*) temps=(?P<time>.*) ms\"\n",
    "\n",
    "extracteds = []\n",
    "for line in text3.split(\"\\n\"):\n",
    "    matches = re.finditer(regex, line, re.MULTILINE)\n",
    "    extracted = [m.groupdict() for m in matches]\n",
    "    if extracted:\n",
    "        extracteds.append(extracted)"
   ]
  },
  {
   "cell_type": "code",
   "execution_count": 45,
   "id": "d690683e",
   "metadata": {},
   "outputs": [
    {
     "ename": "TypeError",
     "evalue": "list indices must be integers or slices, not str",
     "output_type": "error",
     "traceback": [
      "\u001b[0;31m---------------------------------------------------------------------------\u001b[0m",
      "\u001b[0;31mTypeError\u001b[0m                                 Traceback (most recent call last)",
      "Input \u001b[0;32mIn [45]\u001b[0m, in \u001b[0;36m<module>\u001b[0;34m\u001b[0m\n\u001b[0;32m----> 1\u001b[0m \u001b[43mextracteds\u001b[49m\u001b[43m[\u001b[49m\u001b[38;5;241;43m0\u001b[39;49m\u001b[43m]\u001b[49m\u001b[43m[\u001b[49m\u001b[38;5;124;43m\"\u001b[39;49m\u001b[38;5;124;43mtime\u001b[39;49m\u001b[38;5;124;43m\"\u001b[39;49m\u001b[43m]\u001b[49m\n",
      "\u001b[0;31mTypeError\u001b[0m: list indices must be integers or slices, not str"
     ]
    }
   ],
   "source": [
    "extracteds[0][\"\"]"
   ]
  },
  {
   "cell_type": "code",
   "execution_count": 41,
   "id": "6b65d2de",
   "metadata": {},
   "outputs": [
    {
     "data": {
      "text/plain": [
       "'64 octets de par21s17-in-f14.1e100.net (216.58.215.46) : icmp_seq=1 ttl=115 temps=2.21 ms'"
      ]
     },
     "execution_count": 41,
     "metadata": {},
     "output_type": "execute_result"
    }
   ],
   "source": [
    "res."
   ]
  },
  {
   "cell_type": "code",
   "execution_count": null,
   "id": "6d48964d",
   "metadata": {},
   "outputs": [],
   "source": []
  }
 ],
 "metadata": {
  "kernelspec": {
   "display_name": "Python 3 (ipykernel)",
   "language": "python",
   "name": "python3"
  },
  "language_info": {
   "codemirror_mode": {
    "name": "ipython",
    "version": 3
   },
   "file_extension": ".py",
   "mimetype": "text/x-python",
   "name": "python",
   "nbconvert_exporter": "python",
   "pygments_lexer": "ipython3",
   "version": "3.8.10"
  }
 },
 "nbformat": 4,
 "nbformat_minor": 5
}
