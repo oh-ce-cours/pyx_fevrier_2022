{
 "cells": [
  {
   "cell_type": "markdown",
   "id": "ebe2d982",
   "metadata": {},
   "source": [
    "# Appeler des programmes bash avec Python "
   ]
  },
  {
   "cell_type": "code",
   "execution_count": 1,
   "id": "b2476ab2",
   "metadata": {},
   "outputs": [
    {
     "name": "stdout",
     "output_type": "stream",
     "text": [
      "ex1.py\n",
      "ex_poo.py\n",
      "Jour 1.ipynb\n",
      "Jour 2.ipynb\n",
      "Jour 3.ipynb\n",
      "log.txt\n",
      "recovered.py\n",
      "test.txt\n",
      "utils.py\n"
     ]
    },
    {
     "data": {
      "text/plain": [
       "0"
      ]
     },
     "execution_count": 1,
     "metadata": {},
     "output_type": "execute_result"
    }
   ],
   "source": [
    "import os\n",
    "os.system(\"ls\")\n"
   ]
  },
  {
   "cell_type": "code",
   "execution_count": 17,
   "id": "0ee3b456",
   "metadata": {},
   "outputs": [],
   "source": [
    "from subprocess import Popen, PIPE\n",
    "import unicodedata\n",
    "pipe = Popen([\"ping\", \"-c\", \"5\",\"google.com\"], stdout=PIPE)\n",
    "text = pipe.communicate()"
   ]
  },
  {
   "cell_type": "code",
   "execution_count": 18,
   "id": "a58ada44",
   "metadata": {},
   "outputs": [],
   "source": [
    "text2 = text[0]\n",
    "text3 = unicodedata.normalize(\"NFKD\", text2.decode(\"utf8\"))\n"
   ]
  },
  {
   "cell_type": "code",
   "execution_count": 20,
   "id": "24afb8ae",
   "metadata": {},
   "outputs": [
    {
     "data": {
      "text/plain": [
       "['PING google.com (216.58.215.46) 56(84) bytes of data.',\n",
       " '64 octets de par21s17-in-f14.1e100.net (216.58.215.46) : icmp_seq=1 ttl=115 temps=2.21 ms',\n",
       " '64 octets de par21s17-in-f14.1e100.net (216.58.215.46) : icmp_seq=2 ttl=107 temps=12.2 ms',\n",
       " '64 octets de par21s17-in-f14.1e100.net (216.58.215.46) : icmp_seq=3 ttl=115 temps=2.34 ms',\n",
       " '64 octets de par21s17-in-f14.1e100.net (216.58.215.46) : icmp_seq=4 ttl=115 temps=2.27 ms',\n",
       " '64 octets de par21s17-in-f14.1e100.net (216.58.215.46) : icmp_seq=5 ttl=107 temps=11.4 ms',\n",
       " '',\n",
       " '--- statistiques ping google.com ---',\n",
       " '5 paquets transmis, 5 reçus, 0 % paquets perdus, temps 4006 ms',\n",
       " 'rtt min/avg/max/mdev = 2.211/6.077/12.186/4.664 ms',\n",
       " '']"
      ]
     },
     "execution_count": 20,
     "metadata": {},
     "output_type": "execute_result"
    }
   ],
   "source": [
    "text3.split(\"\\n\")"
   ]
  },
  {
   "cell_type": "code",
   "execution_count": null,
   "id": "0e1f2c6c",
   "metadata": {},
   "outputs": [],
   "source": []
  }
 ],
 "metadata": {
  "kernelspec": {
   "display_name": "Python 3 (ipykernel)",
   "language": "python",
   "name": "python3"
  },
  "language_info": {
   "codemirror_mode": {
    "name": "ipython",
    "version": 3
   },
   "file_extension": ".py",
   "mimetype": "text/x-python",
   "name": "python",
   "nbconvert_exporter": "python",
   "pygments_lexer": "ipython3",
   "version": "3.8.10"
  }
 },
 "nbformat": 4,
 "nbformat_minor": 5
}
