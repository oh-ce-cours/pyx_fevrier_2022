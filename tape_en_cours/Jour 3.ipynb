{
 "cells": [
  {
   "cell_type": "markdown",
   "id": "a250d175",
   "metadata": {},
   "source": [
    "# Appeler des programmes bash avec Python "
   ]
  },
  {
   "cell_type": "code",
   "execution_count": 1,
   "id": "de68c29e",
   "metadata": {},
   "outputs": [
    {
     "name": "stdout",
     "output_type": "stream",
     "text": [
      "ex1.py\n",
      "ex_poo.py\n",
      "Jour 1.ipynb\n",
      "Jour 2.ipynb\n",
      "Jour 3.ipynb\n",
      "log.txt\n",
      "recovered.py\n",
      "test.txt\n",
      "utils.py\n"
     ]
    },
    {
     "data": {
      "text/plain": [
       "0"
      ]
     },
     "execution_count": 1,
     "metadata": {},
     "output_type": "execute_result"
    }
   ],
   "source": [
    "import os\n",
    "os.system(\"ls\")\n"
   ]
  },
  {
   "cell_type": "code",
   "execution_count": 11,
   "id": "404596f1",
   "metadata": {},
   "outputs": [
    {
     "data": {
      "text/plain": [
       "['PING google.com (142.250.184.238) 56(84) bytes of data.',\n",
       " '64\\xa0octets de fra24s12-in-f14.1e100.net (142.250.184.238)\\xa0: icmp_seq=1 ttl=112 temps=11.5\\xa0ms',\n",
       " '64\\xa0octets de fra24s12-in-f14.1e100.net (142.250.184.238)\\xa0: icmp_seq=2 ttl=111 temps=12.9\\xa0ms',\n",
       " '64\\xa0octets de fra24s12-in-f14.1e100.net (142.250.184.238)\\xa0: icmp_seq=3 ttl=111 temps=13.0\\xa0ms',\n",
       " '64\\xa0octets de fra24s12-in-f14.1e100.net (142.250.184.238)\\xa0: icmp_seq=4 ttl=111 temps=12.8\\xa0ms',\n",
       " '64\\xa0octets de fra24s12-in-f14.1e100.net (142.250.184.238)\\xa0: icmp_seq=5 ttl=112 temps=11.5\\xa0ms',\n",
       " '',\n",
       " '--- statistiques ping google.com ---',\n",
       " '5\\xa0paquets transmis, 5 reçus, 0\\xa0% paquets perdus, temps 4007\\xa0ms',\n",
       " 'rtt min/avg/max/mdev = 11.490/12.344/12.998/0.682 ms',\n",
       " '']"
      ]
     },
     "execution_count": 11,
     "metadata": {},
     "output_type": "execute_result"
    }
   ],
   "source": [
    "from subprocess import Popen, PIPE\n",
    "pipe = Popen([\"ping\", \"-c\", \"5\",\"google.com\"], stdout=PIPE)\n",
    "text = pipe.communicate()[0]\n",
    "text.decode().split(\"\\n\")"
   ]
  },
  {
   "cell_type": "code",
   "execution_count": null,
   "id": "45b1b9cc",
   "metadata": {},
   "outputs": [],
   "source": []
  },
  {
   "cell_type": "code",
   "execution_count": null,
   "id": "53812877",
   "metadata": {},
   "outputs": [],
   "source": []
  }
 ],
 "metadata": {
  "kernelspec": {
   "display_name": "Python 3 (ipykernel)",
   "language": "python",
   "name": "python3"
  },
  "language_info": {
   "codemirror_mode": {
    "name": "ipython",
    "version": 3
   },
   "file_extension": ".py",
   "mimetype": "text/x-python",
   "name": "python",
   "nbconvert_exporter": "python",
   "pygments_lexer": "ipython3",
   "version": "3.8.10"
  }
 },
 "nbformat": 4,
 "nbformat_minor": 5
}
