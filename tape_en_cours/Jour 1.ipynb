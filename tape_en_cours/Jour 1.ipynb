{
 "cells": [
  {
   "cell_type": "markdown",
   "id": "da3a7c66",
   "metadata": {},
   "source": [
    "# Matin \n",
    "\n",
    "* tour de table \n",
    "* historique de python \n",
    "* installation de VSCode \n",
    "* discussions sur le `pythonpath` et les différents types de modules : \n",
    "    * bibliothèque standard\n",
    "    * tierces\n",
    "    * fichiers dans le module courant \n",
    "* début des `virtualenv`\n",
    "    "
   ]
  },
  {
   "cell_type": "markdown",
   "id": "b5a4fbb0",
   "metadata": {},
   "source": [
    "# Après-midi \n",
    "\n",
    "* fin des virtualenv \n",
    "* partage des packets installés dans un venv (ne pas partagé le venv mais le fichier permettant de le reconstruire)\n",
    "    * `pip install -r requirements.txt`\n",
    "    * `pip freeze > requirements.txt`\n",
    "    "
   ]
  },
  {
   "cell_type": "markdown",
   "id": "46fe42a2",
   "metadata": {},
   "source": [
    "## Cours"
   ]
  },
  {
   "cell_type": "code",
   "execution_count": 10,
   "id": "dabfd3b5",
   "metadata": {},
   "outputs": [
    {
     "data": {
      "text/plain": [
       "float"
      ]
     },
     "execution_count": 10,
     "metadata": {},
     "output_type": "execute_result"
    }
   ],
   "source": [
    "# commentaires \n",
    "a = 2+2.3 \n",
    "type(a) \n",
    "\n",
    "# Il y a 2 types numériques \n",
    "# * int \n",
    "# * float (nombres à virgules)"
   ]
  },
  {
   "cell_type": "code",
   "execution_count": 20,
   "id": "a82dddb6",
   "metadata": {},
   "outputs": [
    {
     "name": "stdout",
     "output_type": "stream",
     "text": [
      "du texte dedans autre texte\n"
     ]
    }
   ],
   "source": [
    "# chaines de caractères, guillemets simple ou double ça marche pareil \n",
    "s = 'du texte dedans' + ' ' + \"autre texte\"\n",
    "print(s)"
   ]
  },
  {
   "cell_type": "code",
   "execution_count": 21,
   "id": "2a7028f4",
   "metadata": {},
   "outputs": [
    {
     "name": "stdout",
     "output_type": "stream",
     "text": [
      "Et là, il dit \"Salut c'est moi !\"\n"
     ]
    }
   ],
   "source": [
    "# on peut être intelligent et éviter de l'escaping avec le type de guillemets\n",
    "s = 'Et là, il dit \"Salut c\\'est moi !\"'\n",
    "print(s)"
   ]
  },
  {
   "cell_type": "code",
   "execution_count": 37,
   "id": "2b08b9a2",
   "metadata": {},
   "outputs": [
    {
     "name": "stdout",
     "output_type": "stream",
     "text": [
      "le résultat de 1+1 est  2. Elle est pas belle la vie\n",
      "le résultat de 4+4 est  8. Elle est pas belle la vie\n",
      "le résultat de 7+7 est 14. Elle est pas belle la vie\n"
     ]
    }
   ],
   "source": [
    "for nombre in range(1, 10, 3):\n",
    "    resultat = nombre + nombre\n",
    "    formated_string = f\"le résultat de {nombre}+{nombre} est {resultat:>2}. Elle est pas belle la vie\"\n",
    "    print(formated_string)"
   ]
  },
  {
   "cell_type": "markdown",
   "id": "68373e37",
   "metadata": {},
   "source": [
    "## Manipulation des index"
   ]
  },
  {
   "cell_type": "code",
   "execution_count": 40,
   "id": "89bb8f0e",
   "metadata": {},
   "outputs": [
    {
     "ename": "IndexError",
     "evalue": "string index out of range",
     "output_type": "error",
     "traceback": [
      "\u001b[0;31m---------------------------------------------------------------------------\u001b[0m",
      "\u001b[0;31mIndexError\u001b[0m                                Traceback (most recent call last)",
      "Input \u001b[0;32mIn [40]\u001b[0m, in \u001b[0;36m<module>\u001b[0;34m\u001b[0m\n\u001b[0;32m----> 1\u001b[0m \u001b[43mformated_string\u001b[49m\u001b[43m[\u001b[49m\u001b[38;5;241;43m5545\u001b[39;49m\u001b[43m]\u001b[49m\n",
      "\u001b[0;31mIndexError\u001b[0m: string index out of range"
     ]
    }
   ],
   "source": [
    "formated_string[5545]"
   ]
  },
  {
   "cell_type": "code",
   "execution_count": 53,
   "id": "b379ce47",
   "metadata": {},
   "outputs": [
    {
     "name": "stdout",
     "output_type": "stream",
     "text": [
      "l e\n"
     ]
    }
   ],
   "source": [
    "# index négatif + le premier élément est à l'index 0\n",
    "print(formated_string[0], formated_string[-1])"
   ]
  },
  {
   "cell_type": "code",
   "execution_count": 51,
   "id": "4a06e4bf",
   "metadata": {},
   "outputs": [
    {
     "name": "stdout",
     "output_type": "stream",
     "text": [
      "l\n",
      "e\n",
      " \n",
      "r\n",
      "é\n",
      "s\n",
      "u\n",
      "l\n",
      "t\n",
      "a\n"
     ]
    }
   ],
   "source": [
    "# le slicing \n",
    "for lettre in formated_string[:10]:\n",
    "    print(lettre)"
   ]
  },
  {
   "cell_type": "markdown",
   "id": "6bc34721",
   "metadata": {},
   "source": [
    "## Listes"
   ]
  },
  {
   "cell_type": "code",
   "execution_count": 75,
   "id": "065525c6",
   "metadata": {},
   "outputs": [
    {
     "name": "stdout",
     "output_type": "stream",
     "text": [
      "<class 'list'> [1, 2, 3]\n"
     ]
    }
   ],
   "source": [
    "l = [1, 2, 3] # on crée une liste avec des crochets\n",
    "print(type(l), l)"
   ]
  },
  {
   "cell_type": "code",
   "execution_count": 76,
   "id": "7dac5736",
   "metadata": {},
   "outputs": [
    {
     "name": "stdout",
     "output_type": "stream",
     "text": [
      "[1, [(), {}, [], 'toto'], 3]\n"
     ]
    }
   ],
   "source": [
    "# les listes peuvent contenir ce que l'on veut comme éléments \n",
    "# à l'intérieur (il n'y a pas de limites sur le nombre ou le type)\n",
    "l[1] = [(), {}, [], \"toto\"]\n",
    "print(l)"
   ]
  },
  {
   "cell_type": "code",
   "execution_count": 77,
   "id": "cd57fdaa",
   "metadata": {},
   "outputs": [
    {
     "data": {
      "text/plain": [
       "[1, [(), {}, [], 'toto']]"
      ]
     },
     "execution_count": 77,
     "metadata": {},
     "output_type": "execute_result"
    }
   ],
   "source": [
    "l[:2]"
   ]
  },
  {
   "cell_type": "code",
   "execution_count": 78,
   "id": "67296ba0",
   "metadata": {},
   "outputs": [
    {
     "ename": "SyntaxError",
     "evalue": "invalid syntax (2182405344.py, line 1)",
     "output_type": "error",
     "traceback": [
      "\u001b[0;36m  Input \u001b[0;32mIn [78]\u001b[0;36m\u001b[0m\n\u001b[0;31m    Les listes sont mutables mais les chaines sont immutables (si l'on souhaite modifier un élément il faut la recréer)\u001b[0m\n\u001b[0m        ^\u001b[0m\n\u001b[0;31mSyntaxError\u001b[0m\u001b[0;31m:\u001b[0m invalid syntax\n"
     ]
    }
   ],
   "source": [
    "Les listes sont mutables mais les chaines sont immutables (si l'on souhaite modifier un élément il faut la recréer)"
   ]
  },
  {
   "cell_type": "code",
   "execution_count": 79,
   "id": "b1431589",
   "metadata": {},
   "outputs": [
    {
     "data": {
      "text/plain": [
       "'Le résultat de 7+7 est 14. Elle est pas belle la vie'"
      ]
     },
     "execution_count": 79,
     "metadata": {},
     "output_type": "execute_result"
    }
   ],
   "source": [
    "formated_string = \"L\" + formated_string[1:]\n",
    "formated_string"
   ]
  },
  {
   "cell_type": "code",
   "execution_count": 80,
   "id": "9ddf038a",
   "metadata": {},
   "outputs": [
    {
     "name": "stdout",
     "output_type": "stream",
     "text": [
      "1\n",
      "[(), {}, [], 'toto']\n",
      "3\n"
     ]
    }
   ],
   "source": [
    "for element in l:\n",
    "    print(element)"
   ]
  },
  {
   "cell_type": "code",
   "execution_count": 90,
   "id": "cef599e7",
   "metadata": {},
   "outputs": [
    {
     "name": "stdout",
     "output_type": "stream",
     "text": [
      "est\n"
     ]
    }
   ],
   "source": [
    "print(formated_string.split(\" \")[4])"
   ]
  },
  {
   "cell_type": "code",
   "execution_count": 91,
   "id": "6b120b73",
   "metadata": {},
   "outputs": [
    {
     "name": "stdout",
     "output_type": "stream",
     "text": [
      "0\n",
      "1\n",
      "2\n",
      "3\n",
      "4\n",
      "5\n",
      "6\n",
      "7\n",
      "8\n",
      "9\n"
     ]
    }
   ],
   "source": [
    "for i in range(10):\n",
    "    print(i)"
   ]
  },
  {
   "cell_type": "code",
   "execution_count": 96,
   "id": "efcd6b8f",
   "metadata": {},
   "outputs": [
    {
     "name": "stdout",
     "output_type": "stream",
     "text": [
      "1\n",
      "2\n",
      "3\n",
      "4\n",
      "5\n",
      "6\n",
      "7\n",
      "8\n",
      "9\n",
      "10\n",
      "11\n"
     ]
    }
   ],
   "source": [
    "i = 0\n",
    "while True:\n",
    "    i += 1\n",
    "    if i > 10:\n",
    "        break\n",
    "    print(i)"
   ]
  },
  {
   "cell_type": "code",
   "execution_count": 97,
   "id": "6866b5f1",
   "metadata": {},
   "outputs": [
    {
     "ename": "NameError",
     "evalue": "name 'cond1' is not defined",
     "output_type": "error",
     "traceback": [
      "\u001b[0;31m---------------------------------------------------------------------------\u001b[0m",
      "\u001b[0;31mNameError\u001b[0m                                 Traceback (most recent call last)",
      "Input \u001b[0;32mIn [97]\u001b[0m, in \u001b[0;36m<module>\u001b[0;34m\u001b[0m\n\u001b[0;32m----> 1\u001b[0m \u001b[38;5;28;01mif\u001b[39;00m \u001b[43mcond1\u001b[49m:\n\u001b[1;32m      2\u001b[0m     \u001b[38;5;241m2\u001b[39m\u001b[38;5;241m+\u001b[39m\u001b[38;5;241m2\u001b[39m \n\u001b[1;32m      3\u001b[0m     \u001b[38;5;241m3\u001b[39m\u001b[38;5;241m+\u001b[39m\u001b[38;5;241m3\u001b[39m \n",
      "\u001b[0;31mNameError\u001b[0m: name 'cond1' is not defined"
     ]
    }
   ],
   "source": [
    "if cond1:\n",
    "    2+2 \n",
    "    3+3 \n",
    "elif cond2:\n",
    "    pass \n",
    "elif cond3:\n",
    "    pass \n",
    "else: \n",
    "    pass "
   ]
  },
  {
   "cell_type": "markdown",
   "id": "765f7fcf",
   "metadata": {},
   "source": [
    "# Exercices  "
   ]
  },
  {
   "cell_type": "markdown",
   "id": "28610bd0",
   "metadata": {},
   "source": [
    "##  1.1 Fizzbuzz"
   ]
  },
  {
   "cell_type": "code",
   "execution_count": 111,
   "id": "6eba7766",
   "metadata": {},
   "outputs": [],
   "source": [
    "for i in range (1,101):\n",
    "    res = \"\"\n",
    "    if i % 3 == 0:\n",
    "        res += \"fizz\"\n",
    "    if i % 5 == 0:\n",
    "        res += \"buzz\"\n",
    "    if not res:\n",
    "        res = str(i)\n",
    "    #print(res)"
   ]
  },
  {
   "cell_type": "code",
   "execution_count": 101,
   "id": "8910dfde",
   "metadata": {},
   "outputs": [
    {
     "name": "stdout",
     "output_type": "stream",
     "text": [
      "1\n",
      "2\n",
      "fizz\n",
      "4\n",
      "buzz\n",
      "fizz\n",
      "7\n",
      "8\n",
      "fizz\n",
      "buzz\n",
      "11\n",
      "fizz\n",
      "13\n",
      "14\n",
      "fizzbuzz\n",
      "16\n",
      "17\n",
      "fizz\n",
      "19\n",
      "buzz\n",
      "fizz\n",
      "22\n",
      "23\n",
      "fizz\n",
      "buzz\n",
      "26\n",
      "fizz\n",
      "28\n",
      "29\n",
      "fizzbuzz\n",
      "31\n",
      "32\n",
      "fizz\n",
      "34\n",
      "buzz\n",
      "fizz\n",
      "37\n",
      "38\n",
      "fizz\n",
      "buzz\n",
      "41\n",
      "fizz\n",
      "43\n",
      "44\n",
      "fizzbuzz\n",
      "46\n",
      "47\n",
      "fizz\n",
      "49\n",
      "buzz\n",
      "fizz\n",
      "52\n",
      "53\n",
      "fizz\n",
      "buzz\n",
      "56\n",
      "fizz\n",
      "58\n",
      "59\n",
      "fizzbuzz\n",
      "61\n",
      "62\n",
      "fizz\n",
      "64\n",
      "buzz\n",
      "fizz\n",
      "67\n",
      "68\n",
      "fizz\n",
      "buzz\n",
      "71\n",
      "fizz\n",
      "73\n",
      "74\n",
      "fizzbuzz\n",
      "76\n",
      "77\n",
      "fizz\n",
      "79\n",
      "buzz\n",
      "fizz\n",
      "82\n",
      "83\n",
      "fizz\n",
      "buzz\n",
      "86\n",
      "fizz\n",
      "88\n",
      "89\n",
      "fizzbuzz\n",
      "91\n",
      "92\n",
      "fizz\n",
      "94\n",
      "buzz\n",
      "fizz\n",
      "97\n",
      "98\n",
      "fizz\n",
      "buzz\n"
     ]
    }
   ],
   "source": [
    "for i in range (1,101):\n",
    "    if (i % 3 == 0 and i % 5 == 0):\n",
    "        print(\"fizzbuzz\")\n",
    "    elif i % 5 == 0:\n",
    "        print(\"buzz\")\n",
    "    elif i % 3 == 0:\n",
    "        print(\"fizz\")\n",
    "    else:\n",
    "        print(i)"
   ]
  },
  {
   "cell_type": "code",
   "execution_count": null,
   "id": "bf7671f2",
   "metadata": {},
   "outputs": [],
   "source": []
  }
 ],
 "metadata": {
  "kernelspec": {
   "display_name": "Python 3 (ipykernel)",
   "language": "python",
   "name": "python3"
  },
  "language_info": {
   "codemirror_mode": {
    "name": "ipython",
    "version": 3
   },
   "file_extension": ".py",
   "mimetype": "text/x-python",
   "name": "python",
   "nbconvert_exporter": "python",
   "pygments_lexer": "ipython3",
   "version": "3.8.10"
  }
 },
 "nbformat": 4,
 "nbformat_minor": 5
}
