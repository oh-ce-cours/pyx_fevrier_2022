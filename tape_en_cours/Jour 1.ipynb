{
 "cells": [
  {
   "cell_type": "markdown",
   "id": "ef333a18",
   "metadata": {},
   "source": [
    "# Matin \n",
    "\n",
    "* tour de table \n",
    "* historique de python \n",
    "* installation de VSCode \n",
    "* discussions sur le `pythonpath` et les différents types de modules : \n",
    "    * bibliothèque standard\n",
    "    * tierces\n",
    "    * fichiers dans le module courant \n",
    "* début des `virtualenv`\n",
    "    "
   ]
  },
  {
   "cell_type": "markdown",
   "id": "5ce9e41c",
   "metadata": {},
   "source": [
    "# Après-midi \n",
    "\n",
    "* fin des virtualenv \n",
    "* partage des packets installés dans un venv (ne pas partagé le venv mais le fichier permettant de le reconstruire)\n",
    "    * `pip install -r requirements.txt`\n",
    "    * `pip freeze > requirements.txt`\n",
    "    "
   ]
  },
  {
   "cell_type": "markdown",
   "id": "da10ab1e",
   "metadata": {},
   "source": [
    "## Cours"
   ]
  },
  {
   "cell_type": "code",
   "execution_count": 10,
   "id": "f9ae06b5",
   "metadata": {},
   "outputs": [
    {
     "data": {
      "text/plain": [
       "float"
      ]
     },
     "execution_count": 10,
     "metadata": {},
     "output_type": "execute_result"
    }
   ],
   "source": [
    "# commentaires \n",
    "a = 2+2.3 \n",
    "type(a) \n",
    "\n",
    "# Il y a 2 types numériques \n",
    "# * int \n",
    "# * float (nombres à virgules)"
   ]
  },
  {
   "cell_type": "code",
   "execution_count": 20,
   "id": "dbe73eb6",
   "metadata": {},
   "outputs": [
    {
     "name": "stdout",
     "output_type": "stream",
     "text": [
      "du texte dedans autre texte\n"
     ]
    }
   ],
   "source": [
    "# chaines de caractères, guillemets simple ou double ça marche pareil \n",
    "s = 'du texte dedans' + ' ' + \"autre texte\"\n",
    "print(s)"
   ]
  },
  {
   "cell_type": "code",
   "execution_count": 21,
   "id": "b89a9876",
   "metadata": {},
   "outputs": [
    {
     "name": "stdout",
     "output_type": "stream",
     "text": [
      "Et là, il dit \"Salut c'est moi !\"\n"
     ]
    }
   ],
   "source": [
    "# on peut être intelligent et éviter de l'escaping avec le type de guillemets\n",
    "s = 'Et là, il dit \"Salut c\\'est moi !\"'\n",
    "print(s)"
   ]
  },
  {
   "cell_type": "code",
   "execution_count": 37,
   "id": "d8fada1c",
   "metadata": {},
   "outputs": [
    {
     "name": "stdout",
     "output_type": "stream",
     "text": [
      "le résultat de 1+1 est  2. Elle est pas belle la vie\n",
      "le résultat de 4+4 est  8. Elle est pas belle la vie\n",
      "le résultat de 7+7 est 14. Elle est pas belle la vie\n"
     ]
    }
   ],
   "source": [
    "for nombre in range(1, 10, 3):\n",
    "    resultat = nombre + nombre\n",
    "    formated_string = f\"le résultat de {nombre}+{nombre} est {resultat:>2}. Elle est pas belle la vie\"\n",
    "    print(formated_string)"
   ]
  },
  {
   "cell_type": "markdown",
   "id": "88ed01ac",
   "metadata": {},
   "source": [
    "## Manipulation des index"
   ]
  },
  {
   "cell_type": "code",
   "execution_count": 40,
   "id": "e08b8da0",
   "metadata": {},
   "outputs": [
    {
     "ename": "IndexError",
     "evalue": "string index out of range",
     "output_type": "error",
     "traceback": [
      "\u001b[0;31m---------------------------------------------------------------------------\u001b[0m",
      "\u001b[0;31mIndexError\u001b[0m                                Traceback (most recent call last)",
      "Input \u001b[0;32mIn [40]\u001b[0m, in \u001b[0;36m<module>\u001b[0;34m\u001b[0m\n\u001b[0;32m----> 1\u001b[0m \u001b[43mformated_string\u001b[49m\u001b[43m[\u001b[49m\u001b[38;5;241;43m5545\u001b[39;49m\u001b[43m]\u001b[49m\n",
      "\u001b[0;31mIndexError\u001b[0m: string index out of range"
     ]
    }
   ],
   "source": [
    "formated_string[5545]"
   ]
  },
  {
   "cell_type": "code",
   "execution_count": 53,
   "id": "b3f97639",
   "metadata": {},
   "outputs": [
    {
     "name": "stdout",
     "output_type": "stream",
     "text": [
      "l e\n"
     ]
    }
   ],
   "source": [
    "# index négatif + le premier élément est à l'index 0\n",
    "print(formated_string[0], formated_string[-1])"
   ]
  },
  {
   "cell_type": "code",
   "execution_count": 51,
   "id": "e5998507",
   "metadata": {},
   "outputs": [
    {
     "name": "stdout",
     "output_type": "stream",
     "text": [
      "l\n",
      "e\n",
      " \n",
      "r\n",
      "é\n",
      "s\n",
      "u\n",
      "l\n",
      "t\n",
      "a\n"
     ]
    }
   ],
   "source": [
    "# le slicing \n",
    "for lettre in formated_string[:10]:\n",
    "    print(lettre)"
   ]
  },
  {
   "cell_type": "markdown",
   "id": "827043a5",
   "metadata": {},
   "source": [
    "## Listes"
   ]
  },
  {
   "cell_type": "code",
   "execution_count": 54,
   "id": "7bd26a05",
   "metadata": {},
   "outputs": [
    {
     "name": "stdout",
     "output_type": "stream",
     "text": [
      "<class 'list'> [1, 2, 3]\n"
     ]
    }
   ],
   "source": [
    "l = [1, 2, 3]\n",
    "print(type(l), l)"
   ]
  },
  {
   "cell_type": "code",
   "execution_count": 71,
   "id": "98e0bc05",
   "metadata": {},
   "outputs": [
    {
     "name": "stdout",
     "output_type": "stream",
     "text": [
      "[1, [[], [], 'toto'], 3]\n"
     ]
    }
   ],
   "source": [
    "# les listes peuvent contenir ce que l'on veut comme éléments \n",
    "# à l'intérieur (il n'y a pas de limites sur le nombre ou le type)\n",
    "l[1] = [(), [], \"toto\"]\n",
    "print(l)"
   ]
  },
  {
   "cell_type": "code",
   "execution_count": 58,
   "id": "bcd3406a",
   "metadata": {},
   "outputs": [
    {
     "data": {
      "text/plain": [
       "[1, 2]"
      ]
     },
     "execution_count": 58,
     "metadata": {},
     "output_type": "execute_result"
    }
   ],
   "source": [
    "l[:2]"
   ]
  },
  {
   "cell_type": "code",
   "execution_count": null,
   "id": "2645cf8e",
   "metadata": {},
   "outputs": [],
   "source": [
    "Les listes sont mutables mais les chaines sont immutables (si l'on souhaite modifier un élément il faut la recréer)"
   ]
  },
  {
   "cell_type": "code",
   "execution_count": 63,
   "id": "8e0d0f9d",
   "metadata": {},
   "outputs": [
    {
     "data": {
      "text/plain": [
       "'Le résultat de 7+7 est 14. Elle est pas belle la vie'"
      ]
     },
     "execution_count": 63,
     "metadata": {},
     "output_type": "execute_result"
    }
   ],
   "source": [
    "formated_string = \"L\" + formated_string[1:]\n",
    "formated_string"
   ]
  },
  {
   "cell_type": "code",
   "execution_count": null,
   "id": "99e851bf",
   "metadata": {},
   "outputs": [],
   "source": []
  }
 ],
 "metadata": {
  "kernelspec": {
   "display_name": "Python 3 (ipykernel)",
   "language": "python",
   "name": "python3"
  },
  "language_info": {
   "codemirror_mode": {
    "name": "ipython",
    "version": 3
   },
   "file_extension": ".py",
   "mimetype": "text/x-python",
   "name": "python",
   "nbconvert_exporter": "python",
   "pygments_lexer": "ipython3",
   "version": "3.8.10"
  }
 },
 "nbformat": 4,
 "nbformat_minor": 5
}
