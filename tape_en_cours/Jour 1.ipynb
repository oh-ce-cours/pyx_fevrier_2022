{
 "cells": [
  {
   "cell_type": "markdown",
   "id": "a2b6d803",
   "metadata": {},
   "source": [
    "# Matin \n",
    "\n",
    "* tour de table \n",
    "* historique de python \n",
    "* installation de VSCode \n",
    "* discussions sur le `pythonpath` et les différents types de modules : \n",
    "    * bibliothèque standard\n",
    "    * tierces\n",
    "    * fichiers dans le module courant \n",
    "* début des `virtualenv`\n",
    "    "
   ]
  },
  {
   "cell_type": "markdown",
   "id": "cd82e43d",
   "metadata": {},
   "source": [
    "# Après-midi \n",
    "\n",
    "* fin des virtualenv \n",
    "* partage des packets installés dans un venv (ne pas partagé le venv mais le fichier permettant de le reconstruire)\n",
    "    * `pip install -r requirements.txt`\n",
    "    * `pip freeze > requirements.txt`\n",
    "    "
   ]
  },
  {
   "cell_type": "markdown",
   "id": "ea26ed78",
   "metadata": {},
   "source": [
    "## Cours"
   ]
  },
  {
   "cell_type": "code",
   "execution_count": 10,
   "id": "31d98691",
   "metadata": {},
   "outputs": [
    {
     "data": {
      "text/plain": [
       "float"
      ]
     },
     "execution_count": 10,
     "metadata": {},
     "output_type": "execute_result"
    }
   ],
   "source": [
    "# commentaires \n",
    "a = 2+2.3 \n",
    "type(a) \n",
    "\n",
    "# Il y a 2 types numériques \n",
    "# * int \n",
    "# * float (nombres à virgules)"
   ]
  },
  {
   "cell_type": "code",
   "execution_count": 20,
   "id": "81948be0",
   "metadata": {},
   "outputs": [
    {
     "name": "stdout",
     "output_type": "stream",
     "text": [
      "du texte dedans autre texte\n"
     ]
    }
   ],
   "source": [
    "# chaines de caractères, guillemets simple ou double ça marche pareil \n",
    "s = 'du texte dedans' + ' ' + \"autre texte\"\n",
    "print(s)"
   ]
  },
  {
   "cell_type": "code",
   "execution_count": 21,
   "id": "87f2723a",
   "metadata": {},
   "outputs": [
    {
     "name": "stdout",
     "output_type": "stream",
     "text": [
      "Et là, il dit \"Salut c'est moi !\"\n"
     ]
    }
   ],
   "source": [
    "# on peut être intelligent et éviter de l'escaping avec le type de guillemets\n",
    "s = 'Et là, il dit \"Salut c\\'est moi !\"'\n",
    "print(s)"
   ]
  },
  {
   "cell_type": "code",
   "execution_count": 36,
   "id": "f9842b50",
   "metadata": {},
   "outputs": [
    {
     "name": "stdout",
     "output_type": "stream",
     "text": [
      "le résultat de 1+1 est  2. Elle est pas belle la vie\n",
      "le résultat de 3+3 est  6. Elle est pas belle la vie\n",
      "le résultat de 5+5 est 10. Elle est pas belle la vie\n",
      "le résultat de 7+7 est 14. Elle est pas belle la vie\n",
      "le résultat de 9+9 est 18. Elle est pas belle la vie\n"
     ]
    }
   ],
   "source": [
    "for nombre in range(1, 10, 2):\n",
    "    resultat = nombre + nombre\n",
    "    formated_string = f\"le résultat de {nombre}+{nombre} est {resultat:>2}. Elle est pas belle la vie\"\n",
    "    print(formated_string)"
   ]
  },
  {
   "cell_type": "markdown",
   "id": "c587eb21",
   "metadata": {},
   "source": [
    "## Manipulation des index"
   ]
  },
  {
   "cell_type": "code",
   "execution_count": 34,
   "id": "b5cb6b90",
   "metadata": {},
   "outputs": [
    {
     "data": {
      "text/plain": [
       "'e'"
      ]
     },
     "execution_count": 34,
     "metadata": {},
     "output_type": "execute_result"
    }
   ],
   "source": [
    "formated_string[1]"
   ]
  },
  {
   "cell_type": "code",
   "execution_count": null,
   "id": "437d22b9",
   "metadata": {},
   "outputs": [],
   "source": []
  }
 ],
 "metadata": {
  "kernelspec": {
   "display_name": "Python 3 (ipykernel)",
   "language": "python",
   "name": "python3"
  },
  "language_info": {
   "codemirror_mode": {
    "name": "ipython",
    "version": 3
   },
   "file_extension": ".py",
   "mimetype": "text/x-python",
   "name": "python",
   "nbconvert_exporter": "python",
   "pygments_lexer": "ipython3",
   "version": "3.8.10"
  }
 },
 "nbformat": 4,
 "nbformat_minor": 5
}
