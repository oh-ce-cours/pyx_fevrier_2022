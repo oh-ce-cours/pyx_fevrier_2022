{
 "cells": [
  {
   "cell_type": "markdown",
   "id": "208b992e",
   "metadata": {},
   "source": [
    "# Matin \n",
    "\n",
    "* tour de table \n",
    "* historique de python \n",
    "* installation de VSCode \n",
    "* discussions sur le `pythonpath` et les différents types de modules : \n",
    "    * bibliothèque standard\n",
    "    * tierces\n",
    "    * fichiers dans le module courant \n",
    "* début des `virtualenv`\n",
    "    "
   ]
  },
  {
   "cell_type": "markdown",
   "id": "8d46ed0c",
   "metadata": {},
   "source": [
    "# Après-midi \n",
    "\n",
    "* fin des virtualenv \n",
    "* partage des packets installés dans un venv (ne pas partagé le venv mais le fichier permettant de le reconstruire)\n",
    "    * `pip install -r requirements.txt`\n",
    "    * `pip freeze > requirements.txt`\n",
    "    "
   ]
  },
  {
   "cell_type": "markdown",
   "id": "56b67307",
   "metadata": {},
   "source": [
    "## Cours"
   ]
  },
  {
   "cell_type": "code",
   "execution_count": 10,
   "id": "ee7e6b29",
   "metadata": {},
   "outputs": [
    {
     "data": {
      "text/plain": [
       "float"
      ]
     },
     "execution_count": 10,
     "metadata": {},
     "output_type": "execute_result"
    }
   ],
   "source": [
    "# commentaires \n",
    "a = 2+2.3 \n",
    "type(a) \n",
    "\n",
    "# Il y a 2 types numériques \n",
    "# * int \n",
    "# * float (nombres à virgules)"
   ]
  },
  {
   "cell_type": "code",
   "execution_count": 20,
   "id": "77044c03",
   "metadata": {},
   "outputs": [
    {
     "name": "stdout",
     "output_type": "stream",
     "text": [
      "du texte dedans autre texte\n"
     ]
    }
   ],
   "source": [
    "# chaines de caractères, guillemets simple ou double ça marche pareil \n",
    "s = 'du texte dedans' + ' ' + \"autre texte\"\n",
    "print(s)"
   ]
  },
  {
   "cell_type": "code",
   "execution_count": 19,
   "id": "53645dda",
   "metadata": {},
   "outputs": [
    {
     "name": "stdout",
     "output_type": "stream",
     "text": [
      "Et là, il dit \"Salut c'est moi !\"\n"
     ]
    }
   ],
   "source": [
    "# on peut e\n",
    "s = 'Et là, il dit \"Salut c\\'est moi !\"'\n",
    "print(s)"
   ]
  },
  {
   "cell_type": "code",
   "execution_count": null,
   "id": "2c5a6a8a",
   "metadata": {},
   "outputs": [],
   "source": []
  }
 ],
 "metadata": {
  "kernelspec": {
   "display_name": "Python 3 (ipykernel)",
   "language": "python",
   "name": "python3"
  },
  "language_info": {
   "codemirror_mode": {
    "name": "ipython",
    "version": 3
   },
   "file_extension": ".py",
   "mimetype": "text/x-python",
   "name": "python",
   "nbconvert_exporter": "python",
   "pygments_lexer": "ipython3",
   "version": "3.8.10"
  }
 },
 "nbformat": 4,
 "nbformat_minor": 5
}
