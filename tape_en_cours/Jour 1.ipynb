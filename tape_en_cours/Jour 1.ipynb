{
 "cells": [
  {
   "cell_type": "markdown",
   "id": "286dda42",
   "metadata": {},
   "source": [
    "# Matin \n",
    "\n",
    "* tour de table \n",
    "* historique de python \n",
    "* installation de VSCode \n",
    "* discussions sur le `pythonpath` et les différents types de modules : \n",
    "    * bibliothèque standard\n",
    "    * tierces\n",
    "    * fichiers dans le module courant \n",
    "* début des `virtualenv`\n",
    "    "
   ]
  },
  {
   "cell_type": "markdown",
   "id": "b4727805",
   "metadata": {},
   "source": [
    "# Après-midi \n",
    "\n",
    "* fin des virtualenv \n",
    "* partage des packets installés dans un venv (ne pas partagé le venv mais le fichier permettant de le reconstruire)\n",
    "    * `pip install -r requirements.txt`\n",
    "    * `pip freeze > requirements.txt`\n",
    "    "
   ]
  },
  {
   "cell_type": "markdown",
   "id": "cd45f687",
   "metadata": {},
   "source": [
    "## Cours"
   ]
  },
  {
   "cell_type": "code",
   "execution_count": 10,
   "id": "108b2955",
   "metadata": {},
   "outputs": [
    {
     "data": {
      "text/plain": [
       "float"
      ]
     },
     "execution_count": 10,
     "metadata": {},
     "output_type": "execute_result"
    }
   ],
   "source": [
    "# commentaires \n",
    "a = 2+2.3 \n",
    "type(a) \n",
    "\n",
    "# Il y a 2 types numériques \n",
    "# * int \n",
    "# * float (nombres à virgules)"
   ]
  },
  {
   "cell_type": "code",
   "execution_count": 20,
   "id": "39673d0d",
   "metadata": {},
   "outputs": [
    {
     "name": "stdout",
     "output_type": "stream",
     "text": [
      "du texte dedans autre texte\n"
     ]
    }
   ],
   "source": [
    "# chaines de caractères, guillemets simple ou double ça marche pareil \n",
    "s = 'du texte dedans' + ' ' + \"autre texte\"\n",
    "print(s)"
   ]
  },
  {
   "cell_type": "code",
   "execution_count": 21,
   "id": "e0895bac",
   "metadata": {},
   "outputs": [
    {
     "name": "stdout",
     "output_type": "stream",
     "text": [
      "Et là, il dit \"Salut c'est moi !\"\n"
     ]
    }
   ],
   "source": [
    "# on peut être intelligent et éviter de l'escaping avec le type de guillemets\n",
    "s = 'Et là, il dit \"Salut c\\'est moi !\"'\n",
    "print(s)"
   ]
  },
  {
   "cell_type": "code",
   "execution_count": null,
   "id": "0b43a67f",
   "metadata": {},
   "outputs": [],
   "source": [
    "formated_string = f\"\""
   ]
  }
 ],
 "metadata": {
  "kernelspec": {
   "display_name": "Python 3 (ipykernel)",
   "language": "python",
   "name": "python3"
  },
  "language_info": {
   "codemirror_mode": {
    "name": "ipython",
    "version": 3
   },
   "file_extension": ".py",
   "mimetype": "text/x-python",
   "name": "python",
   "nbconvert_exporter": "python",
   "pygments_lexer": "ipython3",
   "version": "3.8.10"
  }
 },
 "nbformat": 4,
 "nbformat_minor": 5
}
